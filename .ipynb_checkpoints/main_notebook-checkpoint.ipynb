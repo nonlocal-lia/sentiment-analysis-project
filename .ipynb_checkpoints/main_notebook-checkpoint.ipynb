{
 "cells": [
  {
   "cell_type": "markdown",
   "metadata": {},
   "source": [
    "# EDA Notebook"
   ]
  },
  {
   "cell_type": "code",
   "execution_count": 1,
   "metadata": {},
   "outputs": [],
   "source": [
    "import pandas as pd\n",
    "import numpy as np\n",
    "from nltk.corpus import stopwords\n",
    "from nltk import FreqDist\n",
    "from nltk.tokenize import word_tokenize\n",
    "from nltk.stem import WordNetLemmatizer\n",
    "from matplotlib.ticker import MaxNLocator\n",
    "from string import punctuation\n",
    "import re\n",
    "from code import contraction\n",
    "import pickle\n",
    "import matplotlib.pyplot as plt"
   ]
  },
  {
   "cell_type": "markdown",
   "metadata": {},
   "source": [
    "All data comes from . They collected the data in 2013 and had people classify tweets for emotion taken from a collection of tweets under the SXSW hashtag that mention google, android, apple, ipads, or iphones."
   ]
  },
  {
   "cell_type": "code",
   "execution_count": 2,
   "metadata": {},
   "outputs": [],
   "source": [
    "raw_data = pd.read_csv('data/judge-1377884607_tweet_product_company.csv', encoding='ISO-8859-1')"
   ]
  },
  {
   "cell_type": "code",
   "execution_count": 3,
   "metadata": {},
   "outputs": [
    {
     "data": {
      "text/html": [
       "<div>\n",
       "<style scoped>\n",
       "    .dataframe tbody tr th:only-of-type {\n",
       "        vertical-align: middle;\n",
       "    }\n",
       "\n",
       "    .dataframe tbody tr th {\n",
       "        vertical-align: top;\n",
       "    }\n",
       "\n",
       "    .dataframe thead th {\n",
       "        text-align: right;\n",
       "    }\n",
       "</style>\n",
       "<table border=\"1\" class=\"dataframe\">\n",
       "  <thead>\n",
       "    <tr style=\"text-align: right;\">\n",
       "      <th></th>\n",
       "      <th>tweet_text</th>\n",
       "      <th>emotion_in_tweet_is_directed_at</th>\n",
       "      <th>is_there_an_emotion_directed_at_a_brand_or_product</th>\n",
       "    </tr>\n",
       "  </thead>\n",
       "  <tbody>\n",
       "    <tr>\n",
       "      <th>0</th>\n",
       "      <td>.@wesley83 I have a 3G iPhone. After 3 hrs twe...</td>\n",
       "      <td>iPhone</td>\n",
       "      <td>Negative emotion</td>\n",
       "    </tr>\n",
       "    <tr>\n",
       "      <th>1</th>\n",
       "      <td>@jessedee Know about @fludapp ? Awesome iPad/i...</td>\n",
       "      <td>iPad or iPhone App</td>\n",
       "      <td>Positive emotion</td>\n",
       "    </tr>\n",
       "    <tr>\n",
       "      <th>2</th>\n",
       "      <td>@swonderlin Can not wait for #iPad 2 also. The...</td>\n",
       "      <td>iPad</td>\n",
       "      <td>Positive emotion</td>\n",
       "    </tr>\n",
       "    <tr>\n",
       "      <th>3</th>\n",
       "      <td>@sxsw I hope this year's festival isn't as cra...</td>\n",
       "      <td>iPad or iPhone App</td>\n",
       "      <td>Negative emotion</td>\n",
       "    </tr>\n",
       "    <tr>\n",
       "      <th>4</th>\n",
       "      <td>@sxtxstate great stuff on Fri #SXSW: Marissa M...</td>\n",
       "      <td>Google</td>\n",
       "      <td>Positive emotion</td>\n",
       "    </tr>\n",
       "  </tbody>\n",
       "</table>\n",
       "</div>"
      ],
      "text/plain": [
       "                                          tweet_text  \\\n",
       "0  .@wesley83 I have a 3G iPhone. After 3 hrs twe...   \n",
       "1  @jessedee Know about @fludapp ? Awesome iPad/i...   \n",
       "2  @swonderlin Can not wait for #iPad 2 also. The...   \n",
       "3  @sxsw I hope this year's festival isn't as cra...   \n",
       "4  @sxtxstate great stuff on Fri #SXSW: Marissa M...   \n",
       "\n",
       "  emotion_in_tweet_is_directed_at  \\\n",
       "0                          iPhone   \n",
       "1              iPad or iPhone App   \n",
       "2                            iPad   \n",
       "3              iPad or iPhone App   \n",
       "4                          Google   \n",
       "\n",
       "  is_there_an_emotion_directed_at_a_brand_or_product  \n",
       "0                                   Negative emotion  \n",
       "1                                   Positive emotion  \n",
       "2                                   Positive emotion  \n",
       "3                                   Negative emotion  \n",
       "4                                   Positive emotion  "
      ]
     },
     "execution_count": 3,
     "metadata": {},
     "output_type": "execute_result"
    }
   ],
   "source": [
    "raw_data.head()"
   ]
  },
  {
   "cell_type": "markdown",
   "metadata": {},
   "source": [
    "## Exploring Nan Values"
   ]
  },
  {
   "cell_type": "markdown",
   "metadata": {},
   "source": [
    "As we can see there are many missing values in the 'emotion_in_tweet_is_directed_at' column."
   ]
  },
  {
   "cell_type": "code",
   "execution_count": 4,
   "metadata": {},
   "outputs": [
    {
     "name": "stdout",
     "output_type": "stream",
     "text": [
      "<class 'pandas.core.frame.DataFrame'>\n",
      "RangeIndex: 9093 entries, 0 to 9092\n",
      "Data columns (total 3 columns):\n",
      " #   Column                                              Non-Null Count  Dtype \n",
      "---  ------                                              --------------  ----- \n",
      " 0   tweet_text                                          9092 non-null   object\n",
      " 1   emotion_in_tweet_is_directed_at                     3291 non-null   object\n",
      " 2   is_there_an_emotion_directed_at_a_brand_or_product  9093 non-null   object\n",
      "dtypes: object(3)\n",
      "memory usage: 213.2+ KB\n"
     ]
    }
   ],
   "source": [
    "raw_data.info()"
   ]
  },
  {
   "cell_type": "markdown",
   "metadata": {},
   "source": [
    "The tweets talk about Apple and Google as well as their more specific products, the nan values are likely about things other than these products, but let's investigate more."
   ]
  },
  {
   "cell_type": "code",
   "execution_count": 5,
   "metadata": {},
   "outputs": [
    {
     "data": {
      "text/plain": [
       "iPad                               946\n",
       "Apple                              661\n",
       "iPad or iPhone App                 470\n",
       "Google                             430\n",
       "iPhone                             297\n",
       "Other Google product or service    293\n",
       "Android App                         81\n",
       "Android                             78\n",
       "Other Apple product or service      35\n",
       "Name: emotion_in_tweet_is_directed_at, dtype: int64"
      ]
     },
     "execution_count": 5,
     "metadata": {},
     "output_type": "execute_result"
    }
   ],
   "source": [
    "raw_data['emotion_in_tweet_is_directed_at'].value_counts()"
   ]
  },
  {
   "cell_type": "code",
   "execution_count": 6,
   "metadata": {},
   "outputs": [
    {
     "data": {
      "text/html": [
       "<div>\n",
       "<style scoped>\n",
       "    .dataframe tbody tr th:only-of-type {\n",
       "        vertical-align: middle;\n",
       "    }\n",
       "\n",
       "    .dataframe tbody tr th {\n",
       "        vertical-align: top;\n",
       "    }\n",
       "\n",
       "    .dataframe thead th {\n",
       "        text-align: right;\n",
       "    }\n",
       "</style>\n",
       "<table border=\"1\" class=\"dataframe\">\n",
       "  <thead>\n",
       "    <tr style=\"text-align: right;\">\n",
       "      <th></th>\n",
       "      <th>tweet_text</th>\n",
       "      <th>emotion_in_tweet_is_directed_at</th>\n",
       "      <th>is_there_an_emotion_directed_at_a_brand_or_product</th>\n",
       "    </tr>\n",
       "  </thead>\n",
       "  <tbody>\n",
       "    <tr>\n",
       "      <th>5</th>\n",
       "      <td>@teachntech00 New iPad Apps For #SpeechTherapy...</td>\n",
       "      <td>NaN</td>\n",
       "      <td>No emotion toward brand or product</td>\n",
       "    </tr>\n",
       "    <tr>\n",
       "      <th>6</th>\n",
       "      <td>NaN</td>\n",
       "      <td>NaN</td>\n",
       "      <td>No emotion toward brand or product</td>\n",
       "    </tr>\n",
       "    <tr>\n",
       "      <th>16</th>\n",
       "      <td>Holler Gram for iPad on the iTunes App Store -...</td>\n",
       "      <td>NaN</td>\n",
       "      <td>No emotion toward brand or product</td>\n",
       "    </tr>\n",
       "    <tr>\n",
       "      <th>32</th>\n",
       "      <td>Attn: All  #SXSW frineds, @mention Register fo...</td>\n",
       "      <td>NaN</td>\n",
       "      <td>No emotion toward brand or product</td>\n",
       "    </tr>\n",
       "    <tr>\n",
       "      <th>33</th>\n",
       "      <td>Anyone at  #sxsw want to sell their old iPad?</td>\n",
       "      <td>NaN</td>\n",
       "      <td>No emotion toward brand or product</td>\n",
       "    </tr>\n",
       "  </tbody>\n",
       "</table>\n",
       "</div>"
      ],
      "text/plain": [
       "                                           tweet_text  \\\n",
       "5   @teachntech00 New iPad Apps For #SpeechTherapy...   \n",
       "6                                                 NaN   \n",
       "16  Holler Gram for iPad on the iTunes App Store -...   \n",
       "32  Attn: All  #SXSW frineds, @mention Register fo...   \n",
       "33      Anyone at  #sxsw want to sell their old iPad?   \n",
       "\n",
       "   emotion_in_tweet_is_directed_at  \\\n",
       "5                              NaN   \n",
       "6                              NaN   \n",
       "16                             NaN   \n",
       "32                             NaN   \n",
       "33                             NaN   \n",
       "\n",
       "   is_there_an_emotion_directed_at_a_brand_or_product  \n",
       "5                  No emotion toward brand or product  \n",
       "6                  No emotion toward brand or product  \n",
       "16                 No emotion toward brand or product  \n",
       "32                 No emotion toward brand or product  \n",
       "33                 No emotion toward brand or product  "
      ]
     },
     "execution_count": 6,
     "metadata": {},
     "output_type": "execute_result"
    }
   ],
   "source": [
    "raw_data[raw_data['emotion_in_tweet_is_directed_at'].isna()].head()"
   ]
  },
  {
   "cell_type": "code",
   "execution_count": 7,
   "metadata": {},
   "outputs": [
    {
     "data": {
      "text/plain": [
       "No emotion toward brand or product    5298\n",
       "Positive emotion                       306\n",
       "I can't tell                           147\n",
       "Negative emotion                        51\n",
       "Name: is_there_an_emotion_directed_at_a_brand_or_product, dtype: int64"
      ]
     },
     "execution_count": 7,
     "metadata": {},
     "output_type": "execute_result"
    }
   ],
   "source": [
    "nan_rows = raw_data[raw_data['emotion_in_tweet_is_directed_at'].isna()]\n",
    "nan_rows['is_there_an_emotion_directed_at_a_brand_or_product'].value_counts()"
   ]
  },
  {
   "cell_type": "markdown",
   "metadata": {},
   "source": [
    "#### Postive Emotion NaN"
   ]
  },
  {
   "cell_type": "markdown",
   "metadata": {},
   "source": [
    "Let's look at some example tweets with positive emotion, but without a listed product or brand."
   ]
  },
  {
   "cell_type": "code",
   "execution_count": 8,
   "metadata": {},
   "outputs": [
    {
     "data": {
      "text/html": [
       "<style  type=\"text/css\" >\n",
       "#T_f840ae25_8ac8_11ec_820a_b46bfc1d89a3row0_col0,#T_f840ae25_8ac8_11ec_820a_b46bfc1d89a3row0_col1,#T_f840ae25_8ac8_11ec_820a_b46bfc1d89a3row0_col2,#T_f840ae25_8ac8_11ec_820a_b46bfc1d89a3row1_col0,#T_f840ae25_8ac8_11ec_820a_b46bfc1d89a3row1_col1,#T_f840ae25_8ac8_11ec_820a_b46bfc1d89a3row1_col2,#T_f840ae25_8ac8_11ec_820a_b46bfc1d89a3row2_col0,#T_f840ae25_8ac8_11ec_820a_b46bfc1d89a3row2_col1,#T_f840ae25_8ac8_11ec_820a_b46bfc1d89a3row2_col2,#T_f840ae25_8ac8_11ec_820a_b46bfc1d89a3row3_col0,#T_f840ae25_8ac8_11ec_820a_b46bfc1d89a3row3_col1,#T_f840ae25_8ac8_11ec_820a_b46bfc1d89a3row3_col2,#T_f840ae25_8ac8_11ec_820a_b46bfc1d89a3row4_col0,#T_f840ae25_8ac8_11ec_820a_b46bfc1d89a3row4_col1,#T_f840ae25_8ac8_11ec_820a_b46bfc1d89a3row4_col2,#T_f840ae25_8ac8_11ec_820a_b46bfc1d89a3row5_col0,#T_f840ae25_8ac8_11ec_820a_b46bfc1d89a3row5_col1,#T_f840ae25_8ac8_11ec_820a_b46bfc1d89a3row5_col2,#T_f840ae25_8ac8_11ec_820a_b46bfc1d89a3row6_col0,#T_f840ae25_8ac8_11ec_820a_b46bfc1d89a3row6_col1,#T_f840ae25_8ac8_11ec_820a_b46bfc1d89a3row6_col2,#T_f840ae25_8ac8_11ec_820a_b46bfc1d89a3row7_col0,#T_f840ae25_8ac8_11ec_820a_b46bfc1d89a3row7_col1,#T_f840ae25_8ac8_11ec_820a_b46bfc1d89a3row7_col2,#T_f840ae25_8ac8_11ec_820a_b46bfc1d89a3row8_col0,#T_f840ae25_8ac8_11ec_820a_b46bfc1d89a3row8_col1,#T_f840ae25_8ac8_11ec_820a_b46bfc1d89a3row8_col2,#T_f840ae25_8ac8_11ec_820a_b46bfc1d89a3row9_col0,#T_f840ae25_8ac8_11ec_820a_b46bfc1d89a3row9_col1,#T_f840ae25_8ac8_11ec_820a_b46bfc1d89a3row9_col2,#T_f840ae25_8ac8_11ec_820a_b46bfc1d89a3row10_col0,#T_f840ae25_8ac8_11ec_820a_b46bfc1d89a3row10_col1,#T_f840ae25_8ac8_11ec_820a_b46bfc1d89a3row10_col2,#T_f840ae25_8ac8_11ec_820a_b46bfc1d89a3row11_col0,#T_f840ae25_8ac8_11ec_820a_b46bfc1d89a3row11_col1,#T_f840ae25_8ac8_11ec_820a_b46bfc1d89a3row11_col2,#T_f840ae25_8ac8_11ec_820a_b46bfc1d89a3row12_col0,#T_f840ae25_8ac8_11ec_820a_b46bfc1d89a3row12_col1,#T_f840ae25_8ac8_11ec_820a_b46bfc1d89a3row12_col2,#T_f840ae25_8ac8_11ec_820a_b46bfc1d89a3row13_col0,#T_f840ae25_8ac8_11ec_820a_b46bfc1d89a3row13_col1,#T_f840ae25_8ac8_11ec_820a_b46bfc1d89a3row13_col2,#T_f840ae25_8ac8_11ec_820a_b46bfc1d89a3row14_col0,#T_f840ae25_8ac8_11ec_820a_b46bfc1d89a3row14_col1,#T_f840ae25_8ac8_11ec_820a_b46bfc1d89a3row14_col2{\n",
       "            text-align:  left;\n",
       "        }</style><table id=\"T_f840ae25_8ac8_11ec_820a_b46bfc1d89a3\" ><thead>    <tr>        <th class=\"blank level0\" ></th>        <th class=\"col_heading level0 col0\" >tweet_text</th>        <th class=\"col_heading level0 col1\" >emotion_in_tweet_is_directed_at</th>        <th class=\"col_heading level0 col2\" >is_there_an_emotion_directed_at_a_brand_or_product</th>    </tr></thead><tbody>\n",
       "                <tr>\n",
       "                        <th id=\"T_f840ae25_8ac8_11ec_820a_b46bfc1d89a3level0_row0\" class=\"row_heading level0 row0\" >6287</th>\n",
       "                        <td id=\"T_f840ae25_8ac8_11ec_820a_b46bfc1d89a3row0_col0\" class=\"data row0 col0\" >RT @mention Marc Ecko #SXSW launches #iPhone app. to autodial political change! {link} #edreform #edtech #eduVC #FightThePaddle</td>\n",
       "                        <td id=\"T_f840ae25_8ac8_11ec_820a_b46bfc1d89a3row0_col1\" class=\"data row0 col1\" >nan</td>\n",
       "                        <td id=\"T_f840ae25_8ac8_11ec_820a_b46bfc1d89a3row0_col2\" class=\"data row0 col2\" >Positive emotion</td>\n",
       "            </tr>\n",
       "            <tr>\n",
       "                        <th id=\"T_f840ae25_8ac8_11ec_820a_b46bfc1d89a3level0_row1\" class=\"row_heading level0 row1\" >1458</th>\n",
       "                        <td id=\"T_f840ae25_8ac8_11ec_820a_b46bfc1d89a3row1_col0\" class=\"data row1 col0\" >OH SNAP!!!!  At an 80s party hosted by Google! #sxsw</td>\n",
       "                        <td id=\"T_f840ae25_8ac8_11ec_820a_b46bfc1d89a3row1_col1\" class=\"data row1 col1\" >nan</td>\n",
       "                        <td id=\"T_f840ae25_8ac8_11ec_820a_b46bfc1d89a3row1_col2\" class=\"data row1 col2\" >Positive emotion</td>\n",
       "            </tr>\n",
       "            <tr>\n",
       "                        <th id=\"T_f840ae25_8ac8_11ec_820a_b46bfc1d89a3level0_row2\" class=\"row_heading level0 row2\" >1010</th>\n",
       "                        <td id=\"T_f840ae25_8ac8_11ec_820a_b46bfc1d89a3row2_col0\" class=\"data row2 col0\" >Temporary Pop Shop by #Apple at #SXSW and Nice Flipboard upgrade</td>\n",
       "                        <td id=\"T_f840ae25_8ac8_11ec_820a_b46bfc1d89a3row2_col1\" class=\"data row2 col1\" >nan</td>\n",
       "                        <td id=\"T_f840ae25_8ac8_11ec_820a_b46bfc1d89a3row2_col2\" class=\"data row2 col2\" >Positive emotion</td>\n",
       "            </tr>\n",
       "            <tr>\n",
       "                        <th id=\"T_f840ae25_8ac8_11ec_820a_b46bfc1d89a3level0_row3\" class=\"row_heading level0 row3\" >7531</th>\n",
       "                        <td id=\"T_f840ae25_8ac8_11ec_820a_b46bfc1d89a3row3_col0\" class=\"data row3 col0\" >Watch your ears! RT @mention I'll be at the Austin Convention Center today w/ my @mention fam... showing my new iPhone game. #SXSW</td>\n",
       "                        <td id=\"T_f840ae25_8ac8_11ec_820a_b46bfc1d89a3row3_col1\" class=\"data row3 col1\" >nan</td>\n",
       "                        <td id=\"T_f840ae25_8ac8_11ec_820a_b46bfc1d89a3row3_col2\" class=\"data row3 col2\" >Positive emotion</td>\n",
       "            </tr>\n",
       "            <tr>\n",
       "                        <th id=\"T_f840ae25_8ac8_11ec_820a_b46bfc1d89a3level0_row4\" class=\"row_heading level0 row4\" >886</th>\n",
       "                        <td id=\"T_f840ae25_8ac8_11ec_820a_b46bfc1d89a3row4_col0\" class=\"data row4 col0\" >How did I miss this?! I knew I spotted NFC enabled google places marker at birds! No wonder all the billboard near #sxsw {link}</td>\n",
       "                        <td id=\"T_f840ae25_8ac8_11ec_820a_b46bfc1d89a3row4_col1\" class=\"data row4 col1\" >nan</td>\n",
       "                        <td id=\"T_f840ae25_8ac8_11ec_820a_b46bfc1d89a3row4_col2\" class=\"data row4 col2\" >Positive emotion</td>\n",
       "            </tr>\n",
       "            <tr>\n",
       "                        <th id=\"T_f840ae25_8ac8_11ec_820a_b46bfc1d89a3level0_row5\" class=\"row_heading level0 row5\" >7865</th>\n",
       "                        <td id=\"T_f840ae25_8ac8_11ec_820a_b46bfc1d89a3row5_col0\" class=\"data row5 col0\" >Wish I was in #SXSW right now. Lots of action taking place. I am sure it will be fun. Nevertheless google it and you will find tons of news.</td>\n",
       "                        <td id=\"T_f840ae25_8ac8_11ec_820a_b46bfc1d89a3row5_col1\" class=\"data row5 col1\" >nan</td>\n",
       "                        <td id=\"T_f840ae25_8ac8_11ec_820a_b46bfc1d89a3row5_col2\" class=\"data row5 col2\" >Positive emotion</td>\n",
       "            </tr>\n",
       "            <tr>\n",
       "                        <th id=\"T_f840ae25_8ac8_11ec_820a_b46bfc1d89a3level0_row6\" class=\"row_heading level0 row6\" >8245</th>\n",
       "                        <td id=\"T_f840ae25_8ac8_11ec_820a_b46bfc1d89a3row6_col0\" class=\"data row6 col0\" >Better get in line now. RT @mention Apple is opening up a temp store in downtown Austin for #SXSW &amp; iPad 2 launch {link}</td>\n",
       "                        <td id=\"T_f840ae25_8ac8_11ec_820a_b46bfc1d89a3row6_col1\" class=\"data row6 col1\" >nan</td>\n",
       "                        <td id=\"T_f840ae25_8ac8_11ec_820a_b46bfc1d89a3row6_col2\" class=\"data row6 col2\" >Positive emotion</td>\n",
       "            </tr>\n",
       "            <tr>\n",
       "                        <th id=\"T_f840ae25_8ac8_11ec_820a_b46bfc1d89a3level0_row7\" class=\"row_heading level0 row7\" >3803</th>\n",
       "                        <td id=\"T_f840ae25_8ac8_11ec_820a_b46bfc1d89a3row7_col0\" class=\"data row7 col0\" >Best sessions I've seen so far at #SXSW have been this morning. Music of Ixd and Designing iPad Interfaces #winning</td>\n",
       "                        <td id=\"T_f840ae25_8ac8_11ec_820a_b46bfc1d89a3row7_col1\" class=\"data row7 col1\" >nan</td>\n",
       "                        <td id=\"T_f840ae25_8ac8_11ec_820a_b46bfc1d89a3row7_col2\" class=\"data row7 col2\" >Positive emotion</td>\n",
       "            </tr>\n",
       "            <tr>\n",
       "                        <th id=\"T_f840ae25_8ac8_11ec_820a_b46bfc1d89a3level0_row8\" class=\"row_heading level0 row8\" >8469</th>\n",
       "                        <td id=\"T_f840ae25_8ac8_11ec_820a_b46bfc1d89a3row8_col0\" class=\"data row8 col0\" >Mayer: I think about simplicity a lot at Google in developing products. #sxsw ^JR</td>\n",
       "                        <td id=\"T_f840ae25_8ac8_11ec_820a_b46bfc1d89a3row8_col1\" class=\"data row8 col1\" >nan</td>\n",
       "                        <td id=\"T_f840ae25_8ac8_11ec_820a_b46bfc1d89a3row8_col2\" class=\"data row8 col2\" >Positive emotion</td>\n",
       "            </tr>\n",
       "            <tr>\n",
       "                        <th id=\"T_f840ae25_8ac8_11ec_820a_b46bfc1d89a3level0_row9\" class=\"row_heading level0 row9\" >4976</th>\n",
       "                        <td id=\"T_f840ae25_8ac8_11ec_820a_b46bfc1d89a3row9_col0\" class=\"data row9 col0\" >@mention Oh, oh, oh! Does the iPad come with my #sxsw badge? @mention</td>\n",
       "                        <td id=\"T_f840ae25_8ac8_11ec_820a_b46bfc1d89a3row9_col1\" class=\"data row9 col1\" >nan</td>\n",
       "                        <td id=\"T_f840ae25_8ac8_11ec_820a_b46bfc1d89a3row9_col2\" class=\"data row9 col2\" >Positive emotion</td>\n",
       "            </tr>\n",
       "            <tr>\n",
       "                        <th id=\"T_f840ae25_8ac8_11ec_820a_b46bfc1d89a3level0_row10\" class=\"row_heading level0 row10\" >7343</th>\n",
       "                        <td id=\"T_f840ae25_8ac8_11ec_820a_b46bfc1d89a3row10_col0\" class=\"data row10 col0\" >iphone, ipad, mac Oh my! #agchat,#sxsw</td>\n",
       "                        <td id=\"T_f840ae25_8ac8_11ec_820a_b46bfc1d89a3row10_col1\" class=\"data row10 col1\" >nan</td>\n",
       "                        <td id=\"T_f840ae25_8ac8_11ec_820a_b46bfc1d89a3row10_col2\" class=\"data row10 col2\" >Positive emotion</td>\n",
       "            </tr>\n",
       "            <tr>\n",
       "                        <th id=\"T_f840ae25_8ac8_11ec_820a_b46bfc1d89a3level0_row11\" class=\"row_heading level0 row11\" >8460</th>\n",
       "                        <td id=\"T_f840ae25_8ac8_11ec_820a_b46bfc1d89a3row11_col0\" class=\"data row11 col0\" >@mention There was a flap loose and we all peeked. Looks like an Apple Store. Built in a day.  #sxsw</td>\n",
       "                        <td id=\"T_f840ae25_8ac8_11ec_820a_b46bfc1d89a3row11_col1\" class=\"data row11 col1\" >nan</td>\n",
       "                        <td id=\"T_f840ae25_8ac8_11ec_820a_b46bfc1d89a3row11_col2\" class=\"data row11 col2\" >Positive emotion</td>\n",
       "            </tr>\n",
       "            <tr>\n",
       "                        <th id=\"T_f840ae25_8ac8_11ec_820a_b46bfc1d89a3level0_row12\" class=\"row_heading level0 row12\" >6910</th>\n",
       "                        <td id=\"T_f840ae25_8ac8_11ec_820a_b46bfc1d89a3row12_col0\" class=\"data row12 col0\" >RT @mention We're wondering how many @mention will come back from #sxsw with iPad 2's. Maybe everyone?</td>\n",
       "                        <td id=\"T_f840ae25_8ac8_11ec_820a_b46bfc1d89a3row12_col1\" class=\"data row12 col1\" >nan</td>\n",
       "                        <td id=\"T_f840ae25_8ac8_11ec_820a_b46bfc1d89a3row12_col2\" class=\"data row12 col2\" >Positive emotion</td>\n",
       "            </tr>\n",
       "            <tr>\n",
       "                        <th id=\"T_f840ae25_8ac8_11ec_820a_b46bfc1d89a3level0_row13\" class=\"row_heading level0 row13\" >1337</th>\n",
       "                        <td id=\"T_f840ae25_8ac8_11ec_820a_b46bfc1d89a3row13_col0\" class=\"data row13 col0\" >Wow. Just witnessed a homeless guy giving detailed ipad 2 inventory info to a passerby at the Austin popup store. #SXSW</td>\n",
       "                        <td id=\"T_f840ae25_8ac8_11ec_820a_b46bfc1d89a3row13_col1\" class=\"data row13 col1\" >nan</td>\n",
       "                        <td id=\"T_f840ae25_8ac8_11ec_820a_b46bfc1d89a3row13_col2\" class=\"data row13 col2\" >Positive emotion</td>\n",
       "            </tr>\n",
       "            <tr>\n",
       "                        <th id=\"T_f840ae25_8ac8_11ec_820a_b46bfc1d89a3level0_row14\" class=\"row_heading level0 row14\" >5316</th>\n",
       "                        <td id=\"T_f840ae25_8ac8_11ec_820a_b46bfc1d89a3row14_col0\" class=\"data row14 col0\" >RT @mention #SXSW sponsored by Apple, plaid, and boys I'm attracted to.</td>\n",
       "                        <td id=\"T_f840ae25_8ac8_11ec_820a_b46bfc1d89a3row14_col1\" class=\"data row14 col1\" >nan</td>\n",
       "                        <td id=\"T_f840ae25_8ac8_11ec_820a_b46bfc1d89a3row14_col2\" class=\"data row14 col2\" >Positive emotion</td>\n",
       "            </tr>\n",
       "    </tbody></table>"
      ],
      "text/plain": [
       "<pandas.io.formats.style.Styler at 0x2aa63a8adf0>"
      ]
     },
     "execution_count": 8,
     "metadata": {},
     "output_type": "execute_result"
    }
   ],
   "source": [
    "positive_nan = nan_rows[nan_rows['is_there_an_emotion_directed_at_a_brand_or_product']=='Positive emotion']\n",
    "pos_sample = positive_nan.sample(15, random_state=22)\n",
    "pos_sample.style.set_properties(**{'text-align': 'left'})"
   ]
  },
  {
   "cell_type": "markdown",
   "metadata": {},
   "source": [
    "Some seem to have mention of the product, but the emotion isn't about the product, but rather an event at sxsw or contest give away etc. Others have things like using google as a verb."
   ]
  },
  {
   "cell_type": "markdown",
   "metadata": {},
   "source": [
    "#### Negative Emotion NaN"
   ]
  },
  {
   "cell_type": "code",
   "execution_count": 9,
   "metadata": {},
   "outputs": [
    {
     "data": {
      "text/html": [
       "<style  type=\"text/css\" >\n",
       "#T_f842f828_8ac8_11ec_983d_b46bfc1d89a3row0_col0,#T_f842f828_8ac8_11ec_983d_b46bfc1d89a3row0_col1,#T_f842f828_8ac8_11ec_983d_b46bfc1d89a3row0_col2,#T_f842f828_8ac8_11ec_983d_b46bfc1d89a3row1_col0,#T_f842f828_8ac8_11ec_983d_b46bfc1d89a3row1_col1,#T_f842f828_8ac8_11ec_983d_b46bfc1d89a3row1_col2,#T_f842f828_8ac8_11ec_983d_b46bfc1d89a3row2_col0,#T_f842f828_8ac8_11ec_983d_b46bfc1d89a3row2_col1,#T_f842f828_8ac8_11ec_983d_b46bfc1d89a3row2_col2,#T_f842f828_8ac8_11ec_983d_b46bfc1d89a3row3_col0,#T_f842f828_8ac8_11ec_983d_b46bfc1d89a3row3_col1,#T_f842f828_8ac8_11ec_983d_b46bfc1d89a3row3_col2,#T_f842f828_8ac8_11ec_983d_b46bfc1d89a3row4_col0,#T_f842f828_8ac8_11ec_983d_b46bfc1d89a3row4_col1,#T_f842f828_8ac8_11ec_983d_b46bfc1d89a3row4_col2,#T_f842f828_8ac8_11ec_983d_b46bfc1d89a3row5_col0,#T_f842f828_8ac8_11ec_983d_b46bfc1d89a3row5_col1,#T_f842f828_8ac8_11ec_983d_b46bfc1d89a3row5_col2,#T_f842f828_8ac8_11ec_983d_b46bfc1d89a3row6_col0,#T_f842f828_8ac8_11ec_983d_b46bfc1d89a3row6_col1,#T_f842f828_8ac8_11ec_983d_b46bfc1d89a3row6_col2,#T_f842f828_8ac8_11ec_983d_b46bfc1d89a3row7_col0,#T_f842f828_8ac8_11ec_983d_b46bfc1d89a3row7_col1,#T_f842f828_8ac8_11ec_983d_b46bfc1d89a3row7_col2,#T_f842f828_8ac8_11ec_983d_b46bfc1d89a3row8_col0,#T_f842f828_8ac8_11ec_983d_b46bfc1d89a3row8_col1,#T_f842f828_8ac8_11ec_983d_b46bfc1d89a3row8_col2,#T_f842f828_8ac8_11ec_983d_b46bfc1d89a3row9_col0,#T_f842f828_8ac8_11ec_983d_b46bfc1d89a3row9_col1,#T_f842f828_8ac8_11ec_983d_b46bfc1d89a3row9_col2,#T_f842f828_8ac8_11ec_983d_b46bfc1d89a3row10_col0,#T_f842f828_8ac8_11ec_983d_b46bfc1d89a3row10_col1,#T_f842f828_8ac8_11ec_983d_b46bfc1d89a3row10_col2,#T_f842f828_8ac8_11ec_983d_b46bfc1d89a3row11_col0,#T_f842f828_8ac8_11ec_983d_b46bfc1d89a3row11_col1,#T_f842f828_8ac8_11ec_983d_b46bfc1d89a3row11_col2,#T_f842f828_8ac8_11ec_983d_b46bfc1d89a3row12_col0,#T_f842f828_8ac8_11ec_983d_b46bfc1d89a3row12_col1,#T_f842f828_8ac8_11ec_983d_b46bfc1d89a3row12_col2,#T_f842f828_8ac8_11ec_983d_b46bfc1d89a3row13_col0,#T_f842f828_8ac8_11ec_983d_b46bfc1d89a3row13_col1,#T_f842f828_8ac8_11ec_983d_b46bfc1d89a3row13_col2,#T_f842f828_8ac8_11ec_983d_b46bfc1d89a3row14_col0,#T_f842f828_8ac8_11ec_983d_b46bfc1d89a3row14_col1,#T_f842f828_8ac8_11ec_983d_b46bfc1d89a3row14_col2{\n",
       "            text-align:  left;\n",
       "        }</style><table id=\"T_f842f828_8ac8_11ec_983d_b46bfc1d89a3\" ><thead>    <tr>        <th class=\"blank level0\" ></th>        <th class=\"col_heading level0 col0\" >tweet_text</th>        <th class=\"col_heading level0 col1\" >emotion_in_tweet_is_directed_at</th>        <th class=\"col_heading level0 col2\" >is_there_an_emotion_directed_at_a_brand_or_product</th>    </tr></thead><tbody>\n",
       "                <tr>\n",
       "                        <th id=\"T_f842f828_8ac8_11ec_983d_b46bfc1d89a3level0_row0\" class=\"row_heading level0 row0\" >5568</th>\n",
       "                        <td id=\"T_f842f828_8ac8_11ec_983d_b46bfc1d89a3row0_col0\" class=\"data row0 col0\" >RT @mention Best thing I've heard this weekend at #SXSW &quot;I gave my iPad 2 money to #Japan relief. I don't need an iPad 2.&quot; &lt;Amen!&gt;</td>\n",
       "                        <td id=\"T_f842f828_8ac8_11ec_983d_b46bfc1d89a3row0_col1\" class=\"data row0 col1\" >nan</td>\n",
       "                        <td id=\"T_f842f828_8ac8_11ec_983d_b46bfc1d89a3row0_col2\" class=\"data row0 col2\" >Negative emotion</td>\n",
       "            </tr>\n",
       "            <tr>\n",
       "                        <th id=\"T_f842f828_8ac8_11ec_983d_b46bfc1d89a3level0_row1\" class=\"row_heading level0 row1\" >1862</th>\n",
       "                        <td id=\"T_f842f828_8ac8_11ec_983d_b46bfc1d89a3row1_col0\" class=\"data row1 col0\" >@mention about to talk at #sxsw on mistakes building #Netflix #iphone app</td>\n",
       "                        <td id=\"T_f842f828_8ac8_11ec_983d_b46bfc1d89a3row1_col1\" class=\"data row1 col1\" >nan</td>\n",
       "                        <td id=\"T_f842f828_8ac8_11ec_983d_b46bfc1d89a3row1_col2\" class=\"data row1 col2\" >Negative emotion</td>\n",
       "            </tr>\n",
       "            <tr>\n",
       "                        <th id=\"T_f842f828_8ac8_11ec_983d_b46bfc1d89a3level0_row2\" class=\"row_heading level0 row2\" >3861</th>\n",
       "                        <td id=\"T_f842f828_8ac8_11ec_983d_b46bfc1d89a3row2_col0\" class=\"data row2 col0\" >Bad news is it costs $1,000? RT @mention Louis Vuitton has an iPhone app. Called Amble #digitalluxury #sxsw</td>\n",
       "                        <td id=\"T_f842f828_8ac8_11ec_983d_b46bfc1d89a3row2_col1\" class=\"data row2 col1\" >nan</td>\n",
       "                        <td id=\"T_f842f828_8ac8_11ec_983d_b46bfc1d89a3row2_col2\" class=\"data row2 col2\" >Negative emotion</td>\n",
       "            </tr>\n",
       "            <tr>\n",
       "                        <th id=\"T_f842f828_8ac8_11ec_983d_b46bfc1d89a3level0_row3\" class=\"row_heading level0 row3\" >8712</th>\n",
       "                        <td id=\"T_f842f828_8ac8_11ec_983d_b46bfc1d89a3row3_col0\" class=\"data row3 col0\" >Just because google patented something i.e. (Age of domain in rankings algorithm) doesn't mean they use it #qagb #SXSW</td>\n",
       "                        <td id=\"T_f842f828_8ac8_11ec_983d_b46bfc1d89a3row3_col1\" class=\"data row3 col1\" >nan</td>\n",
       "                        <td id=\"T_f842f828_8ac8_11ec_983d_b46bfc1d89a3row3_col2\" class=\"data row3 col2\" >Negative emotion</td>\n",
       "            </tr>\n",
       "            <tr>\n",
       "                        <th id=\"T_f842f828_8ac8_11ec_983d_b46bfc1d89a3level0_row4\" class=\"row_heading level0 row4\" >5728</th>\n",
       "                        <td id=\"T_f842f828_8ac8_11ec_983d_b46bfc1d89a3row4_col0\" class=\"data row4 col0\" >RT @mention Fodder for #snubor panel at #SXSW: &quot;Right to Forget&quot; gains traction in Europe, causing issues for Google {link}</td>\n",
       "                        <td id=\"T_f842f828_8ac8_11ec_983d_b46bfc1d89a3row4_col1\" class=\"data row4 col1\" >nan</td>\n",
       "                        <td id=\"T_f842f828_8ac8_11ec_983d_b46bfc1d89a3row4_col2\" class=\"data row4 col2\" >Negative emotion</td>\n",
       "            </tr>\n",
       "            <tr>\n",
       "                        <th id=\"T_f842f828_8ac8_11ec_983d_b46bfc1d89a3level0_row5\" class=\"row_heading level0 row5\" >3348</th>\n",
       "                        <td id=\"T_f842f828_8ac8_11ec_983d_b46bfc1d89a3row5_col0\" class=\"data row5 col0\" >Who uses Google TV in this room? Nobody raises a hand in a packed room at the #socialviewing session at #sxsw</td>\n",
       "                        <td id=\"T_f842f828_8ac8_11ec_983d_b46bfc1d89a3row5_col1\" class=\"data row5 col1\" >nan</td>\n",
       "                        <td id=\"T_f842f828_8ac8_11ec_983d_b46bfc1d89a3row5_col2\" class=\"data row5 col2\" >Negative emotion</td>\n",
       "            </tr>\n",
       "            <tr>\n",
       "                        <th id=\"T_f842f828_8ac8_11ec_983d_b46bfc1d89a3level0_row6\" class=\"row_heading level0 row6\" >417</th>\n",
       "                        <td id=\"T_f842f828_8ac8_11ec_983d_b46bfc1d89a3row6_col0\" class=\"data row6 col0\" >Shipments daily - follow @mention #AppleATXdt 4 updates RT @mention Pop-up Apple Store seems to be out of pop-up iPad2s. #SXSW</td>\n",
       "                        <td id=\"T_f842f828_8ac8_11ec_983d_b46bfc1d89a3row6_col1\" class=\"data row6 col1\" >nan</td>\n",
       "                        <td id=\"T_f842f828_8ac8_11ec_983d_b46bfc1d89a3row6_col2\" class=\"data row6 col2\" >Negative emotion</td>\n",
       "            </tr>\n",
       "            <tr>\n",
       "                        <th id=\"T_f842f828_8ac8_11ec_983d_b46bfc1d89a3level0_row7\" class=\"row_heading level0 row7\" >4206</th>\n",
       "                        <td id=\"T_f842f828_8ac8_11ec_983d_b46bfc1d89a3row7_col0\" class=\"data row7 col0\" >I feel silly but cannot figure out how to update the #sxsw mobile app on android. It doesn't seem to have &quot;options&quot; (bottom left button)?</td>\n",
       "                        <td id=\"T_f842f828_8ac8_11ec_983d_b46bfc1d89a3row7_col1\" class=\"data row7 col1\" >nan</td>\n",
       "                        <td id=\"T_f842f828_8ac8_11ec_983d_b46bfc1d89a3row7_col2\" class=\"data row7 col2\" >Negative emotion</td>\n",
       "            </tr>\n",
       "            <tr>\n",
       "                        <th id=\"T_f842f828_8ac8_11ec_983d_b46bfc1d89a3level0_row8\" class=\"row_heading level0 row8\" >5089</th>\n",
       "                        <td id=\"T_f842f828_8ac8_11ec_983d_b46bfc1d89a3row8_col0\" class=\"data row8 col0\" >RT @mention @mention  - False Alarm: Google Circles Not Coming NowÛÒand Probably Not Ever? - {link} #Google #Circles #Social #SXSW</td>\n",
       "                        <td id=\"T_f842f828_8ac8_11ec_983d_b46bfc1d89a3row8_col1\" class=\"data row8 col1\" >nan</td>\n",
       "                        <td id=\"T_f842f828_8ac8_11ec_983d_b46bfc1d89a3row8_col2\" class=\"data row8 col2\" >Negative emotion</td>\n",
       "            </tr>\n",
       "            <tr>\n",
       "                        <th id=\"T_f842f828_8ac8_11ec_983d_b46bfc1d89a3level0_row9\" class=\"row_heading level0 row9\" >68</th>\n",
       "                        <td id=\"T_f842f828_8ac8_11ec_983d_b46bfc1d89a3row9_col0\" class=\"data row9 col0\" >Boooo! RT @mention Flipboard is developing an iPhone version, not Android, says @mention #sxsw</td>\n",
       "                        <td id=\"T_f842f828_8ac8_11ec_983d_b46bfc1d89a3row9_col1\" class=\"data row9 col1\" >nan</td>\n",
       "                        <td id=\"T_f842f828_8ac8_11ec_983d_b46bfc1d89a3row9_col2\" class=\"data row9 col2\" >Negative emotion</td>\n",
       "            </tr>\n",
       "            <tr>\n",
       "                        <th id=\"T_f842f828_8ac8_11ec_983d_b46bfc1d89a3level0_row10\" class=\"row_heading level0 row10\" >7680</th>\n",
       "                        <td id=\"T_f842f828_8ac8_11ec_983d_b46bfc1d89a3row10_col0\" class=\"data row10 col0\" >Google (tries again) to launch a new social network called Circles: {link} #sxsw @mention #310409H2011</td>\n",
       "                        <td id=\"T_f842f828_8ac8_11ec_983d_b46bfc1d89a3row10_col1\" class=\"data row10 col1\" >nan</td>\n",
       "                        <td id=\"T_f842f828_8ac8_11ec_983d_b46bfc1d89a3row10_col2\" class=\"data row10 col2\" >Negative emotion</td>\n",
       "            </tr>\n",
       "            <tr>\n",
       "                        <th id=\"T_f842f828_8ac8_11ec_983d_b46bfc1d89a3level0_row11\" class=\"row_heading level0 row11\" >2115</th>\n",
       "                        <td id=\"T_f842f828_8ac8_11ec_983d_b46bfc1d89a3row11_col0\" class=\"data row11 col0\" >Is the Flash discussion still relevant? #SXSW #tapworthy iPad design headaches</td>\n",
       "                        <td id=\"T_f842f828_8ac8_11ec_983d_b46bfc1d89a3row11_col1\" class=\"data row11 col1\" >nan</td>\n",
       "                        <td id=\"T_f842f828_8ac8_11ec_983d_b46bfc1d89a3row11_col2\" class=\"data row11 col2\" >Negative emotion</td>\n",
       "            </tr>\n",
       "            <tr>\n",
       "                        <th id=\"T_f842f828_8ac8_11ec_983d_b46bfc1d89a3level0_row12\" class=\"row_heading level0 row12\" >2319</th>\n",
       "                        <td id=\"T_f842f828_8ac8_11ec_983d_b46bfc1d89a3row12_col0\" class=\"data row12 col0\" >The iPad calendar = The Frankeninterface. Designed as one interface metaphor but uses another. #tapworthy #sxsw</td>\n",
       "                        <td id=\"T_f842f828_8ac8_11ec_983d_b46bfc1d89a3row12_col1\" class=\"data row12 col1\" >nan</td>\n",
       "                        <td id=\"T_f842f828_8ac8_11ec_983d_b46bfc1d89a3row12_col2\" class=\"data row12 col2\" >Negative emotion</td>\n",
       "            </tr>\n",
       "            <tr>\n",
       "                        <th id=\"T_f842f828_8ac8_11ec_983d_b46bfc1d89a3level0_row13\" class=\"row_heading level0 row13\" >9043</th>\n",
       "                        <td id=\"T_f842f828_8ac8_11ec_983d_b46bfc1d89a3row13_col0\" class=\"data row13 col0\" >Hey is anyone doing #sxsw signing up for the group texting app, groupme? got it on my iphone, but no one else is on it, so....kinda useless.</td>\n",
       "                        <td id=\"T_f842f828_8ac8_11ec_983d_b46bfc1d89a3row13_col1\" class=\"data row13 col1\" >nan</td>\n",
       "                        <td id=\"T_f842f828_8ac8_11ec_983d_b46bfc1d89a3row13_col2\" class=\"data row13 col2\" >Negative emotion</td>\n",
       "            </tr>\n",
       "            <tr>\n",
       "                        <th id=\"T_f842f828_8ac8_11ec_983d_b46bfc1d89a3level0_row14\" class=\"row_heading level0 row14\" >1913</th>\n",
       "                        <td id=\"T_f842f828_8ac8_11ec_983d_b46bfc1d89a3row14_col0\" class=\"data row14 col0\" >Google Brain apologies for randy ads popping up with search results; algorithm skewed over weekend by randy queries from #SXSW attendees.</td>\n",
       "                        <td id=\"T_f842f828_8ac8_11ec_983d_b46bfc1d89a3row14_col1\" class=\"data row14 col1\" >nan</td>\n",
       "                        <td id=\"T_f842f828_8ac8_11ec_983d_b46bfc1d89a3row14_col2\" class=\"data row14 col2\" >Negative emotion</td>\n",
       "            </tr>\n",
       "    </tbody></table>"
      ],
      "text/plain": [
       "<pandas.io.formats.style.Styler at 0x2aa63c19730>"
      ]
     },
     "execution_count": 9,
     "metadata": {},
     "output_type": "execute_result"
    }
   ],
   "source": [
    "negative_nan = nan_rows[nan_rows['is_there_an_emotion_directed_at_a_brand_or_product']=='Negative emotion']\n",
    "neg_sample = negative_nan.sample(15, random_state=22)\n",
    "neg_sample.style.set_properties(**{'text-align': 'left'})"
   ]
  },
  {
   "cell_type": "markdown",
   "metadata": {},
   "source": [
    "Also looks like a collection of tweets, many talking negative about other brands or things like flash or flipboard rather than directly about the Apple or Google products in particular."
   ]
  },
  {
   "cell_type": "markdown",
   "metadata": {},
   "source": [
    "#### No Emotion NaN"
   ]
  },
  {
   "cell_type": "markdown",
   "metadata": {},
   "source": [
    "Let's look at some of the no emotion examples to try to determine if there are interesting features here."
   ]
  },
  {
   "cell_type": "code",
   "execution_count": 10,
   "metadata": {},
   "outputs": [
    {
     "data": {
      "text/html": [
       "<style  type=\"text/css\" >\n",
       "#T_f845b76f_8ac8_11ec_8bad_b46bfc1d89a3row0_col0,#T_f845b76f_8ac8_11ec_8bad_b46bfc1d89a3row0_col1,#T_f845b76f_8ac8_11ec_8bad_b46bfc1d89a3row0_col2,#T_f845b76f_8ac8_11ec_8bad_b46bfc1d89a3row1_col0,#T_f845b76f_8ac8_11ec_8bad_b46bfc1d89a3row1_col1,#T_f845b76f_8ac8_11ec_8bad_b46bfc1d89a3row1_col2,#T_f845b76f_8ac8_11ec_8bad_b46bfc1d89a3row2_col0,#T_f845b76f_8ac8_11ec_8bad_b46bfc1d89a3row2_col1,#T_f845b76f_8ac8_11ec_8bad_b46bfc1d89a3row2_col2,#T_f845b76f_8ac8_11ec_8bad_b46bfc1d89a3row3_col0,#T_f845b76f_8ac8_11ec_8bad_b46bfc1d89a3row3_col1,#T_f845b76f_8ac8_11ec_8bad_b46bfc1d89a3row3_col2,#T_f845b76f_8ac8_11ec_8bad_b46bfc1d89a3row4_col0,#T_f845b76f_8ac8_11ec_8bad_b46bfc1d89a3row4_col1,#T_f845b76f_8ac8_11ec_8bad_b46bfc1d89a3row4_col2,#T_f845b76f_8ac8_11ec_8bad_b46bfc1d89a3row5_col0,#T_f845b76f_8ac8_11ec_8bad_b46bfc1d89a3row5_col1,#T_f845b76f_8ac8_11ec_8bad_b46bfc1d89a3row5_col2,#T_f845b76f_8ac8_11ec_8bad_b46bfc1d89a3row6_col0,#T_f845b76f_8ac8_11ec_8bad_b46bfc1d89a3row6_col1,#T_f845b76f_8ac8_11ec_8bad_b46bfc1d89a3row6_col2,#T_f845b76f_8ac8_11ec_8bad_b46bfc1d89a3row7_col0,#T_f845b76f_8ac8_11ec_8bad_b46bfc1d89a3row7_col1,#T_f845b76f_8ac8_11ec_8bad_b46bfc1d89a3row7_col2,#T_f845b76f_8ac8_11ec_8bad_b46bfc1d89a3row8_col0,#T_f845b76f_8ac8_11ec_8bad_b46bfc1d89a3row8_col1,#T_f845b76f_8ac8_11ec_8bad_b46bfc1d89a3row8_col2,#T_f845b76f_8ac8_11ec_8bad_b46bfc1d89a3row9_col0,#T_f845b76f_8ac8_11ec_8bad_b46bfc1d89a3row9_col1,#T_f845b76f_8ac8_11ec_8bad_b46bfc1d89a3row9_col2,#T_f845b76f_8ac8_11ec_8bad_b46bfc1d89a3row10_col0,#T_f845b76f_8ac8_11ec_8bad_b46bfc1d89a3row10_col1,#T_f845b76f_8ac8_11ec_8bad_b46bfc1d89a3row10_col2,#T_f845b76f_8ac8_11ec_8bad_b46bfc1d89a3row11_col0,#T_f845b76f_8ac8_11ec_8bad_b46bfc1d89a3row11_col1,#T_f845b76f_8ac8_11ec_8bad_b46bfc1d89a3row11_col2,#T_f845b76f_8ac8_11ec_8bad_b46bfc1d89a3row12_col0,#T_f845b76f_8ac8_11ec_8bad_b46bfc1d89a3row12_col1,#T_f845b76f_8ac8_11ec_8bad_b46bfc1d89a3row12_col2,#T_f845b76f_8ac8_11ec_8bad_b46bfc1d89a3row13_col0,#T_f845b76f_8ac8_11ec_8bad_b46bfc1d89a3row13_col1,#T_f845b76f_8ac8_11ec_8bad_b46bfc1d89a3row13_col2,#T_f845b76f_8ac8_11ec_8bad_b46bfc1d89a3row14_col0,#T_f845b76f_8ac8_11ec_8bad_b46bfc1d89a3row14_col1,#T_f845b76f_8ac8_11ec_8bad_b46bfc1d89a3row14_col2{\n",
       "            text-align:  left;\n",
       "        }</style><table id=\"T_f845b76f_8ac8_11ec_8bad_b46bfc1d89a3\" ><thead>    <tr>        <th class=\"blank level0\" ></th>        <th class=\"col_heading level0 col0\" >tweet_text</th>        <th class=\"col_heading level0 col1\" >emotion_in_tweet_is_directed_at</th>        <th class=\"col_heading level0 col2\" >is_there_an_emotion_directed_at_a_brand_or_product</th>    </tr></thead><tbody>\n",
       "                <tr>\n",
       "                        <th id=\"T_f845b76f_8ac8_11ec_8bad_b46bfc1d89a3level0_row0\" class=\"row_heading level0 row0\" >410</th>\n",
       "                        <td id=\"T_f845b76f_8ac8_11ec_8bad_b46bfc1d89a3row0_col0\" class=\"data row0 col0\" >If only I could find @mention at #SXSW. He's probably fitIng with his iPad.</td>\n",
       "                        <td id=\"T_f845b76f_8ac8_11ec_8bad_b46bfc1d89a3row0_col1\" class=\"data row0 col1\" >nan</td>\n",
       "                        <td id=\"T_f845b76f_8ac8_11ec_8bad_b46bfc1d89a3row0_col2\" class=\"data row0 col2\" >No emotion toward brand or product</td>\n",
       "            </tr>\n",
       "            <tr>\n",
       "                        <th id=\"T_f845b76f_8ac8_11ec_8bad_b46bfc1d89a3level0_row1\" class=\"row_heading level0 row1\" >1821</th>\n",
       "                        <td id=\"T_f845b76f_8ac8_11ec_8bad_b46bfc1d89a3row1_col0\" class=\"data row1 col0\" >Just saw a guy tweeting on his iPad while peeing... This is #sxsw</td>\n",
       "                        <td id=\"T_f845b76f_8ac8_11ec_8bad_b46bfc1d89a3row1_col1\" class=\"data row1 col1\" >nan</td>\n",
       "                        <td id=\"T_f845b76f_8ac8_11ec_8bad_b46bfc1d89a3row1_col2\" class=\"data row1 col2\" >No emotion toward brand or product</td>\n",
       "            </tr>\n",
       "            <tr>\n",
       "                        <th id=\"T_f845b76f_8ac8_11ec_8bad_b46bfc1d89a3level0_row2\" class=\"row_heading level0 row2\" >2703</th>\n",
       "                        <td id=\"T_f845b76f_8ac8_11ec_8bad_b46bfc1d89a3row2_col0\" class=\"data row2 col0\" >Looks like pop up Apple store is opening...apple store employees emerging into the queue #sxsw</td>\n",
       "                        <td id=\"T_f845b76f_8ac8_11ec_8bad_b46bfc1d89a3row2_col1\" class=\"data row2 col1\" >nan</td>\n",
       "                        <td id=\"T_f845b76f_8ac8_11ec_8bad_b46bfc1d89a3row2_col2\" class=\"data row2 col2\" >No emotion toward brand or product</td>\n",
       "            </tr>\n",
       "            <tr>\n",
       "                        <th id=\"T_f845b76f_8ac8_11ec_8bad_b46bfc1d89a3level0_row3\" class=\"row_heading level0 row3\" >6346</th>\n",
       "                        <td id=\"T_f845b76f_8ac8_11ec_8bad_b46bfc1d89a3row3_col0\" class=\"data row3 col0\" >RT @mention New #UberSocial for #iPhone now in App Store.  Includes UberGuide to #SXSW sponsored by #MashablÛ_ (cont) {link}</td>\n",
       "                        <td id=\"T_f845b76f_8ac8_11ec_8bad_b46bfc1d89a3row3_col1\" class=\"data row3 col1\" >nan</td>\n",
       "                        <td id=\"T_f845b76f_8ac8_11ec_8bad_b46bfc1d89a3row3_col2\" class=\"data row3 col2\" >No emotion toward brand or product</td>\n",
       "            </tr>\n",
       "            <tr>\n",
       "                        <th id=\"T_f845b76f_8ac8_11ec_8bad_b46bfc1d89a3level0_row4\" class=\"row_heading level0 row4\" >1625</th>\n",
       "                        <td id=\"T_f845b76f_8ac8_11ec_8bad_b46bfc1d89a3row4_col0\" class=\"data row4 col0\" >Want! RT @mention Radioshack giving away portable iPhone and laptop chargers on 1st floor of acc. #sxsw</td>\n",
       "                        <td id=\"T_f845b76f_8ac8_11ec_8bad_b46bfc1d89a3row4_col1\" class=\"data row4 col1\" >nan</td>\n",
       "                        <td id=\"T_f845b76f_8ac8_11ec_8bad_b46bfc1d89a3row4_col2\" class=\"data row4 col2\" >No emotion toward brand or product</td>\n",
       "            </tr>\n",
       "            <tr>\n",
       "                        <th id=\"T_f845b76f_8ac8_11ec_8bad_b46bfc1d89a3level0_row5\" class=\"row_heading level0 row5\" >7157</th>\n",
       "                        <td id=\"T_f845b76f_8ac8_11ec_8bad_b46bfc1d89a3row5_col0\" class=\"data row5 col0\" >Need support for private content.  RT @mention now discussing PubSubHubbub: {link} #fsw #sxsw</td>\n",
       "                        <td id=\"T_f845b76f_8ac8_11ec_8bad_b46bfc1d89a3row5_col1\" class=\"data row5 col1\" >nan</td>\n",
       "                        <td id=\"T_f845b76f_8ac8_11ec_8bad_b46bfc1d89a3row5_col2\" class=\"data row5 col2\" >No emotion toward brand or product</td>\n",
       "            </tr>\n",
       "            <tr>\n",
       "                        <th id=\"T_f845b76f_8ac8_11ec_8bad_b46bfc1d89a3level0_row6\" class=\"row_heading level0 row6\" >794</th>\n",
       "                        <td id=\"T_f845b76f_8ac8_11ec_8bad_b46bfc1d89a3row6_col0\" class=\"data row6 col0\" >Google to Launch Major New Social Network Called Circles, Possibly Today @mention {link} via @mention</td>\n",
       "                        <td id=\"T_f845b76f_8ac8_11ec_8bad_b46bfc1d89a3row6_col1\" class=\"data row6 col1\" >nan</td>\n",
       "                        <td id=\"T_f845b76f_8ac8_11ec_8bad_b46bfc1d89a3row6_col2\" class=\"data row6 col2\" >No emotion toward brand or product</td>\n",
       "            </tr>\n",
       "            <tr>\n",
       "                        <th id=\"T_f845b76f_8ac8_11ec_8bad_b46bfc1d89a3level0_row7\" class=\"row_heading level0 row7\" >1568</th>\n",
       "                        <td id=\"T_f845b76f_8ac8_11ec_8bad_b46bfc1d89a3row7_col0\" class=\"data row7 col0\" >Cool! RT @mention Apple has opened a makeshift store for #sxsw, iPad2 will be available at 5pm today... #tempted</td>\n",
       "                        <td id=\"T_f845b76f_8ac8_11ec_8bad_b46bfc1d89a3row7_col1\" class=\"data row7 col1\" >nan</td>\n",
       "                        <td id=\"T_f845b76f_8ac8_11ec_8bad_b46bfc1d89a3row7_col2\" class=\"data row7 col2\" >No emotion toward brand or product</td>\n",
       "            </tr>\n",
       "            <tr>\n",
       "                        <th id=\"T_f845b76f_8ac8_11ec_8bad_b46bfc1d89a3level0_row8\" class=\"row_heading level0 row8\" >8215</th>\n",
       "                        <td id=\"T_f845b76f_8ac8_11ec_8bad_b46bfc1d89a3row8_col0\" class=\"data row8 col0\" >Leo laport At apple popup store for #sxsw.  He is taping for # {link} ipadtoday</td>\n",
       "                        <td id=\"T_f845b76f_8ac8_11ec_8bad_b46bfc1d89a3row8_col1\" class=\"data row8 col1\" >nan</td>\n",
       "                        <td id=\"T_f845b76f_8ac8_11ec_8bad_b46bfc1d89a3row8_col2\" class=\"data row8 col2\" >No emotion toward brand or product</td>\n",
       "            </tr>\n",
       "            <tr>\n",
       "                        <th id=\"T_f845b76f_8ac8_11ec_8bad_b46bfc1d89a3level0_row9\" class=\"row_heading level0 row9\" >4269</th>\n",
       "                        <td id=\"T_f845b76f_8ac8_11ec_8bad_b46bfc1d89a3row9_col0\" class=\"data row9 col0\" >Google's Marissa Mayer demo'ing &quot;contextual discovery&quot; - using where you are, your history, time of search to refine results. #sxsw</td>\n",
       "                        <td id=\"T_f845b76f_8ac8_11ec_8bad_b46bfc1d89a3row9_col1\" class=\"data row9 col1\" >nan</td>\n",
       "                        <td id=\"T_f845b76f_8ac8_11ec_8bad_b46bfc1d89a3row9_col2\" class=\"data row9 col2\" >No emotion toward brand or product</td>\n",
       "            </tr>\n",
       "            <tr>\n",
       "                        <th id=\"T_f845b76f_8ac8_11ec_8bad_b46bfc1d89a3level0_row10\" class=\"row_heading level0 row10\" >7871</th>\n",
       "                        <td id=\"T_f845b76f_8ac8_11ec_8bad_b46bfc1d89a3row10_col0\" class=\"data row10 col0\" >&quot;This is the first of 11 shows this week,&quot; says Elliott Frazier of Ringo Deathstarr at Red 7 just now.  Location: {link}  #sxsw</td>\n",
       "                        <td id=\"T_f845b76f_8ac8_11ec_8bad_b46bfc1d89a3row10_col1\" class=\"data row10 col1\" >nan</td>\n",
       "                        <td id=\"T_f845b76f_8ac8_11ec_8bad_b46bfc1d89a3row10_col2\" class=\"data row10 col2\" >No emotion toward brand or product</td>\n",
       "            </tr>\n",
       "            <tr>\n",
       "                        <th id=\"T_f845b76f_8ac8_11ec_8bad_b46bfc1d89a3level0_row11\" class=\"row_heading level0 row11\" >3716</th>\n",
       "                        <td id=\"T_f845b76f_8ac8_11ec_8bad_b46bfc1d89a3row11_col0\" class=\"data row11 col0\" >Good morning from #SXSW. Who is standing in line for the iPad 2 today? I still have my iPad 1 for sale. 64GB WiFi only $450. #fb</td>\n",
       "                        <td id=\"T_f845b76f_8ac8_11ec_8bad_b46bfc1d89a3row11_col1\" class=\"data row11 col1\" >nan</td>\n",
       "                        <td id=\"T_f845b76f_8ac8_11ec_8bad_b46bfc1d89a3row11_col2\" class=\"data row11 col2\" >No emotion toward brand or product</td>\n",
       "            </tr>\n",
       "            <tr>\n",
       "                        <th id=\"T_f845b76f_8ac8_11ec_8bad_b46bfc1d89a3level0_row12\" class=\"row_heading level0 row12\" >4289</th>\n",
       "                        <td id=\"T_f845b76f_8ac8_11ec_8bad_b46bfc1d89a3row12_col0\" class=\"data row12 col0\" >The Go Game Launches Do-It-Yourself iPhone Scavenger Hunts {link} (via @mention @mention #LI #FB #SXSW</td>\n",
       "                        <td id=\"T_f845b76f_8ac8_11ec_8bad_b46bfc1d89a3row12_col1\" class=\"data row12 col1\" >nan</td>\n",
       "                        <td id=\"T_f845b76f_8ac8_11ec_8bad_b46bfc1d89a3row12_col2\" class=\"data row12 col2\" >No emotion toward brand or product</td>\n",
       "            </tr>\n",
       "            <tr>\n",
       "                        <th id=\"T_f845b76f_8ac8_11ec_8bad_b46bfc1d89a3level0_row13\" class=\"row_heading level0 row13\" >8725</th>\n",
       "                        <td id=\"T_f845b76f_8ac8_11ec_8bad_b46bfc1d89a3row13_col0\" class=\"data row13 col0\" >Cruisin Austin, checked out the venue for tomorrow night, and saw the looong Apple iPad line #sxsw</td>\n",
       "                        <td id=\"T_f845b76f_8ac8_11ec_8bad_b46bfc1d89a3row13_col1\" class=\"data row13 col1\" >nan</td>\n",
       "                        <td id=\"T_f845b76f_8ac8_11ec_8bad_b46bfc1d89a3row13_col2\" class=\"data row13 col2\" >No emotion toward brand or product</td>\n",
       "            </tr>\n",
       "            <tr>\n",
       "                        <th id=\"T_f845b76f_8ac8_11ec_8bad_b46bfc1d89a3level0_row14\" class=\"row_heading level0 row14\" >6320</th>\n",
       "                        <td id=\"T_f845b76f_8ac8_11ec_8bad_b46bfc1d89a3row14_col0\" class=\"data row14 col0\" >RT @mention Miss the Battelle Interview About IPad 2 &amp;Social Media last week? Find it here [video] {link} #sxsw</td>\n",
       "                        <td id=\"T_f845b76f_8ac8_11ec_8bad_b46bfc1d89a3row14_col1\" class=\"data row14 col1\" >nan</td>\n",
       "                        <td id=\"T_f845b76f_8ac8_11ec_8bad_b46bfc1d89a3row14_col2\" class=\"data row14 col2\" >No emotion toward brand or product</td>\n",
       "            </tr>\n",
       "    </tbody></table>"
      ],
      "text/plain": [
       "<pandas.io.formats.style.Styler at 0x2aa63c25850>"
      ]
     },
     "execution_count": 10,
     "metadata": {},
     "output_type": "execute_result"
    }
   ],
   "source": [
    "no_emotion_nan = nan_rows[nan_rows['is_there_an_emotion_directed_at_a_brand_or_product']=='No emotion toward brand or product']\n",
    "none_sample = no_emotion_nan.sample(15, random_state=22)\n",
    "none_sample.style.set_properties(**{'text-align': 'left'})"
   ]
  },
  {
   "cell_type": "markdown",
   "metadata": {},
   "source": [
    "Looks like a mix of tweets about random events where people happen to be using an iPad, etc."
   ]
  },
  {
   "cell_type": "markdown",
   "metadata": {},
   "source": [
    "### Missing tweet text?"
   ]
  },
  {
   "cell_type": "markdown",
   "metadata": {},
   "source": [
    "There is one accidental empty tweet"
   ]
  },
  {
   "cell_type": "code",
   "execution_count": 11,
   "metadata": {},
   "outputs": [
    {
     "data": {
      "text/html": [
       "<div>\n",
       "<style scoped>\n",
       "    .dataframe tbody tr th:only-of-type {\n",
       "        vertical-align: middle;\n",
       "    }\n",
       "\n",
       "    .dataframe tbody tr th {\n",
       "        vertical-align: top;\n",
       "    }\n",
       "\n",
       "    .dataframe thead th {\n",
       "        text-align: right;\n",
       "    }\n",
       "</style>\n",
       "<table border=\"1\" class=\"dataframe\">\n",
       "  <thead>\n",
       "    <tr style=\"text-align: right;\">\n",
       "      <th></th>\n",
       "      <th>tweet_text</th>\n",
       "      <th>emotion_in_tweet_is_directed_at</th>\n",
       "      <th>is_there_an_emotion_directed_at_a_brand_or_product</th>\n",
       "    </tr>\n",
       "  </thead>\n",
       "  <tbody>\n",
       "    <tr>\n",
       "      <th>6</th>\n",
       "      <td>NaN</td>\n",
       "      <td>NaN</td>\n",
       "      <td>No emotion toward brand or product</td>\n",
       "    </tr>\n",
       "  </tbody>\n",
       "</table>\n",
       "</div>"
      ],
      "text/plain": [
       "  tweet_text emotion_in_tweet_is_directed_at  \\\n",
       "6        NaN                             NaN   \n",
       "\n",
       "  is_there_an_emotion_directed_at_a_brand_or_product  \n",
       "6                 No emotion toward brand or product  "
      ]
     },
     "execution_count": 11,
     "metadata": {},
     "output_type": "execute_result"
    }
   ],
   "source": [
    "raw_data[raw_data['tweet_text'].isna()]"
   ]
  },
  {
   "cell_type": "code",
   "execution_count": 12,
   "metadata": {},
   "outputs": [],
   "source": [
    "raw_data = raw_data.dropna(subset=['tweet_text'])"
   ]
  },
  {
   "cell_type": "code",
   "execution_count": 13,
   "metadata": {},
   "outputs": [
    {
     "data": {
      "text/html": [
       "<div>\n",
       "<style scoped>\n",
       "    .dataframe tbody tr th:only-of-type {\n",
       "        vertical-align: middle;\n",
       "    }\n",
       "\n",
       "    .dataframe tbody tr th {\n",
       "        vertical-align: top;\n",
       "    }\n",
       "\n",
       "    .dataframe thead th {\n",
       "        text-align: right;\n",
       "    }\n",
       "</style>\n",
       "<table border=\"1\" class=\"dataframe\">\n",
       "  <thead>\n",
       "    <tr style=\"text-align: right;\">\n",
       "      <th></th>\n",
       "      <th>tweet_text</th>\n",
       "      <th>emotion_in_tweet_is_directed_at</th>\n",
       "      <th>is_there_an_emotion_directed_at_a_brand_or_product</th>\n",
       "    </tr>\n",
       "  </thead>\n",
       "  <tbody>\n",
       "  </tbody>\n",
       "</table>\n",
       "</div>"
      ],
      "text/plain": [
       "Empty DataFrame\n",
       "Columns: [tweet_text, emotion_in_tweet_is_directed_at, is_there_an_emotion_directed_at_a_brand_or_product]\n",
       "Index: []"
      ]
     },
     "execution_count": 13,
     "metadata": {},
     "output_type": "execute_result"
    }
   ],
   "source": [
    "raw_data[raw_data['tweet_text'].isna()]"
   ]
  },
  {
   "cell_type": "markdown",
   "metadata": {},
   "source": [
    "## Labels"
   ]
  },
  {
   "cell_type": "markdown",
   "metadata": {},
   "source": [
    "There are 4 label types as it stands."
   ]
  },
  {
   "cell_type": "code",
   "execution_count": 14,
   "metadata": {},
   "outputs": [
    {
     "data": {
      "text/plain": [
       "No emotion toward brand or product    5388\n",
       "Positive emotion                      2978\n",
       "Negative emotion                       570\n",
       "I can't tell                           156\n",
       "Name: is_there_an_emotion_directed_at_a_brand_or_product, dtype: int64"
      ]
     },
     "execution_count": 14,
     "metadata": {},
     "output_type": "execute_result"
    }
   ],
   "source": [
    "raw_data['is_there_an_emotion_directed_at_a_brand_or_product'].value_counts()"
   ]
  },
  {
   "cell_type": "markdown",
   "metadata": {},
   "source": [
    "We will group the \"I can't tell category\" in with the \"No emotion toward brand or product\" category for simplicity."
   ]
  },
  {
   "cell_type": "code",
   "execution_count": 15,
   "metadata": {},
   "outputs": [
    {
     "data": {
      "text/plain": [
       "No emotion toward brand or product    5544\n",
       "Positive emotion                      2978\n",
       "Negative emotion                       570\n",
       "Name: is_there_an_emotion_directed_at_a_brand_or_product, dtype: int64"
      ]
     },
     "execution_count": 15,
     "metadata": {},
     "output_type": "execute_result"
    }
   ],
   "source": [
    "raw_data['is_there_an_emotion_directed_at_a_brand_or_product'].replace(\n",
    "    \"I can't tell\", \"No emotion toward brand or product\", inplace=True)\n",
    "raw_data['is_there_an_emotion_directed_at_a_brand_or_product'].value_counts()"
   ]
  },
  {
   "cell_type": "markdown",
   "metadata": {},
   "source": [
    "## Cleaning for Visualizing Word Frequencies"
   ]
  },
  {
   "cell_type": "markdown",
   "metadata": {},
   "source": [
    "To get a good idea of any existing correlations in the data, we need to remove some non-word and special symbols that could mess up the analysis such as some unicode special character, urls, hashtags, especially the #SXSW one."
   ]
  },
  {
   "cell_type": "code",
   "execution_count": 16,
   "metadata": {},
   "outputs": [],
   "source": [
    "def clean(tweet): \n",
    "            \n",
    "    # Remove Special characters\n",
    "    tweet = re.sub(r\"\\x89Û_\", \"\", tweet)\n",
    "    tweet = re.sub(r\"\\x89ÛÒ\", \"\", tweet)\n",
    "    tweet = re.sub(r\"\\x89ÛÓ\", \"\", tweet)\n",
    "    tweet = re.sub(r\"\\x89ÛÏ\", \"\", tweet)\n",
    "    tweet = re.sub(r\"\\x89Û÷\", \"\", tweet)\n",
    "    tweet = re.sub(r\"\\x89Ûª\", \"\", tweet)\n",
    "    tweet = re.sub(r\"\\x89Û\\x9d\", \"\", tweet)\n",
    "    tweet = re.sub(r\"\\x89Û¢\", \"\", tweet)\n",
    "    tweet = re.sub(r\"\\x89Û¢åÊ\", \"\", tweet)\n",
    "    tweet = re.sub(r\"&quot;\", \"\", tweet)\n",
    "        \n",
    "    # Remove URLs\n",
    "    tweet = re.sub(r\"https?:\\/\\/t.co\\/[A-Za-z0-9]+\", \"\", tweet)\n",
    "    tweet = re.sub(r\"{link}\", \"\", tweet)\n",
    "    \n",
    "    \n",
    "    # Remove SXSW tag\n",
    "    tweet = re.sub(r\"#SXSW\", \"\", tweet)\n",
    "    tweet = re.sub(r\"#sxsw\", \"\", tweet)\n",
    "    \n",
    "    # Expand Contractions\n",
    "    tweet = contraction.expand_contractions(tweet)\n",
    "    \n",
    "    # Remove Hashtag leave word\n",
    "    tweet = re.sub(r\"#\", \"\", tweet)\n",
    "    \n",
    "    # Remove Mentions\n",
    "    tweet = re.sub(\"@[A-Za-z0-9_]+\",\"\", tweet)\n",
    "    \n",
    "    # Remove Punctuation\n",
    "    tweet = re.sub(r'[^\\w\\s]', ' ', tweet)\n",
    "    \n",
    "    # Lowercase for Dimensionality\n",
    "    tweet = tweet.lower()\n",
    "    \n",
    "    return tweet\n"
   ]
  },
  {
   "cell_type": "code",
   "execution_count": 17,
   "metadata": {},
   "outputs": [],
   "source": [
    "raw_data['cleaned_text'] = raw_data['tweet_text'].apply(lambda x: clean(x))"
   ]
  },
  {
   "cell_type": "code",
   "execution_count": 18,
   "metadata": {},
   "outputs": [
    {
     "data": {
      "text/plain": [
       "0      i have a 3g iphone  after 3 hrs tweeting at ...\n",
       "1     know about    awesome ipad iphone app that yo...\n",
       "2     can not wait for ipad 2 also  they should sal...\n",
       "3     i hope this years festival is not as crashy a...\n",
       "4     great stuff on fri   marissa mayer  google   ...\n",
       "Name: cleaned_text, dtype: object"
      ]
     },
     "execution_count": 18,
     "metadata": {},
     "output_type": "execute_result"
    }
   ],
   "source": [
    "raw_data['cleaned_text'].head()"
   ]
  },
  {
   "cell_type": "markdown",
   "metadata": {},
   "source": [
    "Let's now tokenize and lemmatize the data."
   ]
  },
  {
   "cell_type": "code",
   "execution_count": 19,
   "metadata": {},
   "outputs": [],
   "source": [
    "def lemmatize(word_list):\n",
    "    output = []\n",
    "    lemmatizer = WordNetLemmatizer()\n",
    "    for word in word_list:\n",
    "        output.append(lemmatizer.lemmatize(word))\n",
    "    return output"
   ]
  },
  {
   "cell_type": "code",
   "execution_count": 20,
   "metadata": {},
   "outputs": [
    {
     "data": {
      "text/plain": [
       "['study', 'tweet', 'habit', 'wa']"
      ]
     },
     "execution_count": 20,
     "metadata": {},
     "output_type": "execute_result"
    }
   ],
   "source": [
    "test_list = ['studies', 'tweets', 'habits', 'was'] \n",
    "lemmatize(test_list)"
   ]
  },
  {
   "cell_type": "code",
   "execution_count": 21,
   "metadata": {},
   "outputs": [
    {
     "data": {
      "text/html": [
       "<style  type=\"text/css\" >\n",
       "#T_fb266a88_8ac8_11ec_a0ec_b46bfc1d89a3row0_col0,#T_fb266a88_8ac8_11ec_a0ec_b46bfc1d89a3row0_col1,#T_fb266a88_8ac8_11ec_a0ec_b46bfc1d89a3row0_col2,#T_fb266a88_8ac8_11ec_a0ec_b46bfc1d89a3row0_col3,#T_fb266a88_8ac8_11ec_a0ec_b46bfc1d89a3row0_col4,#T_fb266a88_8ac8_11ec_a0ec_b46bfc1d89a3row1_col0,#T_fb266a88_8ac8_11ec_a0ec_b46bfc1d89a3row1_col1,#T_fb266a88_8ac8_11ec_a0ec_b46bfc1d89a3row1_col2,#T_fb266a88_8ac8_11ec_a0ec_b46bfc1d89a3row1_col3,#T_fb266a88_8ac8_11ec_a0ec_b46bfc1d89a3row1_col4,#T_fb266a88_8ac8_11ec_a0ec_b46bfc1d89a3row2_col0,#T_fb266a88_8ac8_11ec_a0ec_b46bfc1d89a3row2_col1,#T_fb266a88_8ac8_11ec_a0ec_b46bfc1d89a3row2_col2,#T_fb266a88_8ac8_11ec_a0ec_b46bfc1d89a3row2_col3,#T_fb266a88_8ac8_11ec_a0ec_b46bfc1d89a3row2_col4,#T_fb266a88_8ac8_11ec_a0ec_b46bfc1d89a3row3_col0,#T_fb266a88_8ac8_11ec_a0ec_b46bfc1d89a3row3_col1,#T_fb266a88_8ac8_11ec_a0ec_b46bfc1d89a3row3_col2,#T_fb266a88_8ac8_11ec_a0ec_b46bfc1d89a3row3_col3,#T_fb266a88_8ac8_11ec_a0ec_b46bfc1d89a3row3_col4,#T_fb266a88_8ac8_11ec_a0ec_b46bfc1d89a3row4_col0,#T_fb266a88_8ac8_11ec_a0ec_b46bfc1d89a3row4_col1,#T_fb266a88_8ac8_11ec_a0ec_b46bfc1d89a3row4_col2,#T_fb266a88_8ac8_11ec_a0ec_b46bfc1d89a3row4_col3,#T_fb266a88_8ac8_11ec_a0ec_b46bfc1d89a3row4_col4{\n",
       "            text-align:  left;\n",
       "        }</style><table id=\"T_fb266a88_8ac8_11ec_a0ec_b46bfc1d89a3\" ><thead>    <tr>        <th class=\"blank level0\" ></th>        <th class=\"col_heading level0 col0\" >tweet_text</th>        <th class=\"col_heading level0 col1\" >emotion_in_tweet_is_directed_at</th>        <th class=\"col_heading level0 col2\" >is_there_an_emotion_directed_at_a_brand_or_product</th>        <th class=\"col_heading level0 col3\" >cleaned_text</th>        <th class=\"col_heading level0 col4\" >tokened_text</th>    </tr></thead><tbody>\n",
       "                <tr>\n",
       "                        <th id=\"T_fb266a88_8ac8_11ec_a0ec_b46bfc1d89a3level0_row0\" class=\"row_heading level0 row0\" >0</th>\n",
       "                        <td id=\"T_fb266a88_8ac8_11ec_a0ec_b46bfc1d89a3row0_col0\" class=\"data row0 col0\" >.@wesley83 I have a 3G iPhone. After 3 hrs tweeting at #RISE_Austin, it was dead!  I need to upgrade. Plugin stations at #SXSW.</td>\n",
       "                        <td id=\"T_fb266a88_8ac8_11ec_a0ec_b46bfc1d89a3row0_col1\" class=\"data row0 col1\" >iPhone</td>\n",
       "                        <td id=\"T_fb266a88_8ac8_11ec_a0ec_b46bfc1d89a3row0_col2\" class=\"data row0 col2\" >Negative emotion</td>\n",
       "                        <td id=\"T_fb266a88_8ac8_11ec_a0ec_b46bfc1d89a3row0_col3\" class=\"data row0 col3\" >  i have a 3g iphone  after 3 hrs tweeting at rise_austin  it was dead   i need to upgrade  plugin stations at  </td>\n",
       "                        <td id=\"T_fb266a88_8ac8_11ec_a0ec_b46bfc1d89a3row0_col4\" class=\"data row0 col4\" >['i', 'have', 'a', '3g', 'iphone', 'after', '3', 'hr', 'tweeting', 'at', 'rise_austin', 'it', 'wa', 'dead', 'i', 'need', 'to', 'upgrade', 'plugin', 'station', 'at']</td>\n",
       "            </tr>\n",
       "            <tr>\n",
       "                        <th id=\"T_fb266a88_8ac8_11ec_a0ec_b46bfc1d89a3level0_row1\" class=\"row_heading level0 row1\" >1</th>\n",
       "                        <td id=\"T_fb266a88_8ac8_11ec_a0ec_b46bfc1d89a3row1_col0\" class=\"data row1 col0\" >@jessedee Know about @fludapp ? Awesome iPad/iPhone app that you'll likely appreciate for its design. Also, they're giving free Ts at #SXSW</td>\n",
       "                        <td id=\"T_fb266a88_8ac8_11ec_a0ec_b46bfc1d89a3row1_col1\" class=\"data row1 col1\" >iPad or iPhone App</td>\n",
       "                        <td id=\"T_fb266a88_8ac8_11ec_a0ec_b46bfc1d89a3row1_col2\" class=\"data row1 col2\" >Positive emotion</td>\n",
       "                        <td id=\"T_fb266a88_8ac8_11ec_a0ec_b46bfc1d89a3row1_col3\" class=\"data row1 col3\" > know about    awesome ipad iphone app that you will likely appreciate for its design  also  they are giving free ts at </td>\n",
       "                        <td id=\"T_fb266a88_8ac8_11ec_a0ec_b46bfc1d89a3row1_col4\" class=\"data row1 col4\" >['know', 'about', 'awesome', 'ipad', 'iphone', 'app', 'that', 'you', 'will', 'likely', 'appreciate', 'for', 'it', 'design', 'also', 'they', 'are', 'giving', 'free', 't', 'at']</td>\n",
       "            </tr>\n",
       "            <tr>\n",
       "                        <th id=\"T_fb266a88_8ac8_11ec_a0ec_b46bfc1d89a3level0_row2\" class=\"row_heading level0 row2\" >2</th>\n",
       "                        <td id=\"T_fb266a88_8ac8_11ec_a0ec_b46bfc1d89a3row2_col0\" class=\"data row2 col0\" >@swonderlin Can not wait for #iPad 2 also. They should sale them down at #SXSW.</td>\n",
       "                        <td id=\"T_fb266a88_8ac8_11ec_a0ec_b46bfc1d89a3row2_col1\" class=\"data row2 col1\" >iPad</td>\n",
       "                        <td id=\"T_fb266a88_8ac8_11ec_a0ec_b46bfc1d89a3row2_col2\" class=\"data row2 col2\" >Positive emotion</td>\n",
       "                        <td id=\"T_fb266a88_8ac8_11ec_a0ec_b46bfc1d89a3row2_col3\" class=\"data row2 col3\" > can not wait for ipad 2 also  they should sale them down at  </td>\n",
       "                        <td id=\"T_fb266a88_8ac8_11ec_a0ec_b46bfc1d89a3row2_col4\" class=\"data row2 col4\" >['can', 'not', 'wait', 'for', 'ipad', '2', 'also', 'they', 'should', 'sale', 'them', 'down', 'at']</td>\n",
       "            </tr>\n",
       "            <tr>\n",
       "                        <th id=\"T_fb266a88_8ac8_11ec_a0ec_b46bfc1d89a3level0_row3\" class=\"row_heading level0 row3\" >3</th>\n",
       "                        <td id=\"T_fb266a88_8ac8_11ec_a0ec_b46bfc1d89a3row3_col0\" class=\"data row3 col0\" >@sxsw I hope this year's festival isn't as crashy as this year's iPhone app. #sxsw</td>\n",
       "                        <td id=\"T_fb266a88_8ac8_11ec_a0ec_b46bfc1d89a3row3_col1\" class=\"data row3 col1\" >iPad or iPhone App</td>\n",
       "                        <td id=\"T_fb266a88_8ac8_11ec_a0ec_b46bfc1d89a3row3_col2\" class=\"data row3 col2\" >Negative emotion</td>\n",
       "                        <td id=\"T_fb266a88_8ac8_11ec_a0ec_b46bfc1d89a3row3_col3\" class=\"data row3 col3\" > i hope this years festival is not as crashy as this years iphone app  </td>\n",
       "                        <td id=\"T_fb266a88_8ac8_11ec_a0ec_b46bfc1d89a3row3_col4\" class=\"data row3 col4\" >['i', 'hope', 'this', 'year', 'festival', 'is', 'not', 'a', 'crashy', 'a', 'this', 'year', 'iphone', 'app']</td>\n",
       "            </tr>\n",
       "            <tr>\n",
       "                        <th id=\"T_fb266a88_8ac8_11ec_a0ec_b46bfc1d89a3level0_row4\" class=\"row_heading level0 row4\" >4</th>\n",
       "                        <td id=\"T_fb266a88_8ac8_11ec_a0ec_b46bfc1d89a3row4_col0\" class=\"data row4 col0\" >@sxtxstate great stuff on Fri #SXSW: Marissa Mayer (Google), Tim O'Reilly (tech books/conferences) &amp; Matt Mullenweg (Wordpress)</td>\n",
       "                        <td id=\"T_fb266a88_8ac8_11ec_a0ec_b46bfc1d89a3row4_col1\" class=\"data row4 col1\" >Google</td>\n",
       "                        <td id=\"T_fb266a88_8ac8_11ec_a0ec_b46bfc1d89a3row4_col2\" class=\"data row4 col2\" >Positive emotion</td>\n",
       "                        <td id=\"T_fb266a88_8ac8_11ec_a0ec_b46bfc1d89a3row4_col3\" class=\"data row4 col3\" > great stuff on fri   marissa mayer  google   tim oreilly  tech books conferences   amp  matt mullenweg  wordpress </td>\n",
       "                        <td id=\"T_fb266a88_8ac8_11ec_a0ec_b46bfc1d89a3row4_col4\" class=\"data row4 col4\" >['great', 'stuff', 'on', 'fri', 'marissa', 'mayer', 'google', 'tim', 'oreilly', 'tech', 'book', 'conference', 'amp', 'matt', 'mullenweg', 'wordpress']</td>\n",
       "            </tr>\n",
       "    </tbody></table>"
      ],
      "text/plain": [
       "<pandas.io.formats.style.Styler at 0x2aa63c25df0>"
      ]
     },
     "execution_count": 21,
     "metadata": {},
     "output_type": "execute_result"
    }
   ],
   "source": [
    "raw_data['tokened_text'] = raw_data['cleaned_text'].apply(word_tokenize)\n",
    "raw_data['tokened_text'] = raw_data['tokened_text'].apply(lemmatize)\n",
    "raw_data.head().style.set_properties(**{'text-align': 'left'})"
   ]
  },
  {
   "cell_type": "markdown",
   "metadata": {},
   "source": [
    "Let's save a copy of the cleaned data."
   ]
  },
  {
   "cell_type": "code",
   "execution_count": 22,
   "metadata": {},
   "outputs": [],
   "source": [
    "with open('data/clean_tweet_data.pickle', 'wb') as f:\n",
    "    pickle.dump(raw_data, f)"
   ]
  },
  {
   "cell_type": "code",
   "execution_count": 23,
   "metadata": {},
   "outputs": [],
   "source": [
    "with open('data/clean_tweet_data.pickle', 'rb') as file:\n",
    "    clean = pickle.load(file)"
   ]
  },
  {
   "cell_type": "markdown",
   "metadata": {},
   "source": [
    "There are still some oddities, like errors from contractions but this will be sufficient for basic exploration."
   ]
  },
  {
   "cell_type": "code",
   "execution_count": 24,
   "metadata": {},
   "outputs": [],
   "source": [
    "def visualize_top_10(freq_dist, title, ylabel=\"Count\"):\n",
    "\n",
    "    # Extract data for plotting\n",
    "    top_10 = list(zip(*freq_dist.most_common(10)))\n",
    "    tokens = top_10[0]\n",
    "    counts = top_10[1]\n",
    "\n",
    "    # Set up plot and plot data\n",
    "    fig, ax = plt.subplots(figsize=(12,8))\n",
    "    ax.bar(tokens, counts)\n",
    "\n",
    "    # Customize plot appearance\n",
    "    ax.set_title(title)\n",
    "    ax.set_ylabel(ylabel)\n",
    "    ax.yaxis.set_major_locator(MaxNLocator(integer=True))\n",
    "    ax.tick_params(axis=\"x\", rotation=90)\n",
    "    plt.show()"
   ]
  },
  {
   "cell_type": "code",
   "execution_count": 25,
   "metadata": {},
   "outputs": [],
   "source": [
    "freq_dist = FreqDist(clean['tokened_text'].explode())"
   ]
  },
  {
   "cell_type": "markdown",
   "metadata": {},
   "source": [
    "As we can see the top words are mostly stopwords along with the brand names."
   ]
  },
  {
   "cell_type": "code",
   "execution_count": 26,
   "metadata": {},
   "outputs": [
    {
     "data": {
      "image/png": "[encoded data removed]",
      "text/plain": [
       "<Figure size 864x576 with 1 Axes>"
      ]
     },
     "metadata": {
      "needs_background": "light"
     },
     "output_type": "display_data"
    }
   ],
   "source": [
    "visualize_top_10(freq_dist, \"Top 10 Word Frequency for All Data Including Stop Words\")"
   ]
  },
  {
   "cell_type": "markdown",
   "metadata": {},
   "source": [
    "Let's remove the stop words and look for patterns in between the labels and frequencies."
   ]
  },
  {
   "cell_type": "code",
   "execution_count": 27,
   "metadata": {},
   "outputs": [],
   "source": [
    "def remove_stopwords(token_list):\n",
    "    \"\"\"\n",
    "    Given a list of tokens, return a list where the tokens\n",
    "    that are also present in stopwords_list have been\n",
    "    removed\n",
    "    \"\"\"\n",
    "    return [word for word in token_list if word not in stopwords.words('english')]"
   ]
  },
  {
   "cell_type": "code",
   "execution_count": 28,
   "metadata": {},
   "outputs": [],
   "source": [
    "clean['tokened_text'] = clean['tokened_text'].apply(remove_stopwords)"
   ]
  },
  {
   "cell_type": "code",
   "execution_count": 29,
   "metadata": {},
   "outputs": [
    {
     "data": {
      "image/png": "[encoded data removed]",
      "text/plain": [
       "<Figure size 864x576 with 1 Axes>"
      ]
     },
     "metadata": {
      "needs_background": "light"
     },
     "output_type": "display_data"
    }
   ],
   "source": [
    "pos_data = clean[raw_data['is_there_an_emotion_directed_at_a_brand_or_product']=='Positive emotion']['tokened_text'].explode()\n",
    "pos_freq_dist = FreqDist(pos_data)\n",
    "visualize_top_10(pos_freq_dist, \"Top 10 Word Frequency for Positive Sentiment\")"
   ]
  },
  {
   "cell_type": "code",
   "execution_count": 30,
   "metadata": {},
   "outputs": [
    {
     "data": {
      "image/png": "[encoded data removed]",
      "text/plain": [
       "<Figure size 864x576 with 1 Axes>"
      ]
     },
     "metadata": {
      "needs_background": "light"
     },
     "output_type": "display_data"
    }
   ],
   "source": [
    "neg_data = clean[raw_data['is_there_an_emotion_directed_at_a_brand_or_product']=='Negative emotion']['tokened_text'].explode()\n",
    "neg_freq_dist = FreqDist(neg_data)\n",
    "visualize_top_10(neg_freq_dist, \"Top 10 Word Frequency for Negative Sentiment\")"
   ]
  },
  {
   "cell_type": "code",
   "execution_count": 31,
   "metadata": {},
   "outputs": [
    {
     "data": {
      "image/png": "[encoded data removed]",
      "text/plain": [
       "<Figure size 864x576 with 1 Axes>"
      ]
     },
     "metadata": {
      "needs_background": "light"
     },
     "output_type": "display_data"
    }
   ],
   "source": [
    "neutral_data = clean[raw_data['is_there_an_emotion_directed_at_a_brand_or_product']=='No emotion toward brand or product']['tokened_text'].explode()\n",
    "neutral_freq_dist = FreqDist(neutral_data)\n",
    "visualize_top_10(neutral_freq_dist, \"Top 10 Word Frequency for Neutral Sentiment\")"
   ]
  },
  {
   "cell_type": "markdown",
   "metadata": {},
   "source": [
    "Most of the common words are very similar in the different label groups."
   ]
  },
  {
   "cell_type": "markdown",
   "metadata": {},
   "source": [
    "## Bigram Visualizations"
   ]
  },
  {
   "cell_type": "code",
   "execution_count": 32,
   "metadata": {},
   "outputs": [],
   "source": [
    "from nltk.collocations import BigramAssocMeasures, BigramCollocationFinder"
   ]
  },
  {
   "cell_type": "code",
   "execution_count": 33,
   "metadata": {},
   "outputs": [],
   "source": [
    "bigram_measures = BigramAssocMeasures()\n",
    "pos_finder = BigramCollocationFinder.from_words(pos_data)\n",
    "pos_scored = pos_finder.score_ngrams(bigram_measures.raw_freq)"
   ]
  },
  {
   "cell_type": "code",
   "execution_count": 34,
   "metadata": {},
   "outputs": [
    {
     "data": {
      "text/plain": [
       "[(('ipad', '2'), 0.014054859289484764),\n",
       " (('apple', 'store'), 0.0073188898604229415),\n",
       " (('iphone', 'app'), 0.004469056640435247),\n",
       " (('pop', 'store'), 0.004469056640435247),\n",
       " (('google', 'map'), 0.0027850642831697917),\n",
       " (('social', 'network'), 0.0027850642831697917),\n",
       " (('apple', 'pop'), 0.0026879108779429384),\n",
       " (('rt', 'google'), 0.002558373004307134),\n",
       " (('new', 'social'), 0.002493604067489232),\n",
       " (('rt', 'apple'), 0.00242883513067133)]"
      ]
     },
     "execution_count": 34,
     "metadata": {},
     "output_type": "execute_result"
    }
   ],
   "source": [
    "pos_scored[:10]"
   ]
  },
  {
   "cell_type": "code",
   "execution_count": 35,
   "metadata": {},
   "outputs": [
    {
     "data": {
      "text/plain": [
       "[(('ipad', '2'), 0.00958994708994709),\n",
       " (('apple', 'store'), 0.004133597883597883),\n",
       " (('iphone', 'app'), 0.003968253968253968),\n",
       " (('rt', 'google'), 0.003472222222222222),\n",
       " (('ipad', 'design'), 0.0033068783068783067),\n",
       " (('design', 'headache'), 0.0028108465608465607),\n",
       " (('google', 'circle'), 0.0026455026455026454),\n",
       " (('new', 'social'), 0.0026455026455026454),\n",
       " (('social', 'network'), 0.00248015873015873),\n",
       " (('company', 'america'), 0.0021494708994708994)]"
      ]
     },
     "execution_count": 35,
     "metadata": {},
     "output_type": "execute_result"
    }
   ],
   "source": [
    "neg_finder = BigramCollocationFinder.from_words(neg_data)\n",
    "neg_scored = neg_finder.score_ngrams(bigram_measures.raw_freq)\n",
    "neg_scored[:10]"
   ]
  },
  {
   "cell_type": "code",
   "execution_count": 36,
   "metadata": {},
   "outputs": [
    {
     "data": {
      "text/plain": [
       "[(('ipad', '2'), 0.008945023883213768),\n",
       " (('apple', 'store'), 0.006404637100381058),\n",
       " (('social', 'network'), 0.006368857004848203),\n",
       " (('new', 'social'), 0.005796375476322522),\n",
       " (('called', 'circle'), 0.004687192514804014),\n",
       " (('network', 'called'), 0.004615632323738304),\n",
       " (('rt', 'google'), 0.004544072132672594),\n",
       " (('google', 'launch'), 0.004472511941606884),\n",
       " (('major', 'new'), 0.004078930890745478),\n",
       " (('pop', 'store'), 0.004043150795212623)]"
      ]
     },
     "execution_count": 36,
     "metadata": {},
     "output_type": "execute_result"
    }
   ],
   "source": [
    "neutral_finder = BigramCollocationFinder.from_words(neutral_data)\n",
    "neutral_scored = neutral_finder.score_ngrams(bigram_measures.raw_freq)\n",
    "neutral_scored[:10]"
   ]
  },
  {
   "cell_type": "markdown",
   "metadata": {},
   "source": [
    "There is at least some difference in the bigrams. For example, design headaches and ipad design appear in the negative top ten most frequent."
   ]
  },
  {
   "cell_type": "markdown",
   "metadata": {},
   "source": [
    "### Mutual Information Score"
   ]
  },
  {
   "cell_type": "code",
   "execution_count": 37,
   "metadata": {},
   "outputs": [],
   "source": [
    "pos_finder.apply_freq_filter(5)\n",
    "pos_pmi_score = pos_finder.score_ngrams(bigram_measures.pmi)\n",
    "neg_finder.apply_freq_filter(5)\n",
    "neg_pmi_score = neg_finder.score_ngrams(bigram_measures.pmi)\n",
    "neutral_finder.apply_freq_filter(5)\n",
    "neutral_pmi_score = neutral_finder.score_ngrams(bigram_measures.pmi)"
   ]
  },
  {
   "cell_type": "code",
   "execution_count": 38,
   "metadata": {},
   "outputs": [
    {
     "data": {
      "image/png": "[encoded data removed]",
      "text/plain": [
       "<Figure size 864x1296 with 3 Axes>"
      ]
     },
     "metadata": {
      "needs_background": "light"
     },
     "output_type": "display_data"
    }
   ],
   "source": [
    "pos_x = [t[0][0]+' '+t[0][1] for t in pos_pmi_score[:10]]\n",
    "pos_y = [t[1] for t in pos_pmi_score[:10]]\n",
    "neg_x = [t[0][0]+' '+t[0][1] for t in neg_pmi_score[:10]]\n",
    "neg_y = [t[1] for t in neg_pmi_score[:10]]\n",
    "neutral_x = [t[0][0]+' '+t[0][1] for t in neutral_pmi_score[:10]]\n",
    "neutral_y = [t[1] for t in neutral_pmi_score[:10]]\n",
    "plt.figure(figsize = (12,18)) \n",
    "plt.subplot(3,1,1)\n",
    "plt.barh(pos_x, pos_y)\n",
    "plt.title('Positive Tweets Mutual Information Scores')\n",
    "plt.subplot(3,1,2)\n",
    "plt.barh(neg_x, neg_y)\n",
    "plt.title('Negative Tweets Mutual Information Scores')\n",
    "plt.subplot(3,1,3)\n",
    "plt.title('Neutral Tweets Mutual Information Scores')\n",
    "plt.barh(neutral_x, neutral_y)\n",
    "plt.show()\n"
   ]
  },
  {
   "cell_type": "markdown",
   "metadata": {},
   "source": [
    "The mutual information scores are signficantly different."
   ]
  },
  {
   "cell_type": "markdown",
   "metadata": {},
   "source": [
    "# Building a Baseline Model"
   ]
  },
  {
   "cell_type": "markdown",
   "metadata": {},
   "source": [
    "Let's begin by dividing the data into test and training sets."
   ]
  },
  {
   "cell_type": "code",
   "execution_count": 70,
   "metadata": {},
   "outputs": [],
   "source": [
    "from sklearn.model_selection import train_test_split\n",
    "from sklearn.preprocessing import LabelEncoder"
   ]
  },
  {
   "cell_type": "code",
   "execution_count": 71,
   "metadata": {},
   "outputs": [],
   "source": [
    "label = LabelEncoder()\n",
    "X = clean['cleaned_text']\n",
    "y = label.fit_transform(clean['is_there_an_emotion_directed_at_a_brand_or_product'])\n",
    "X_train, X_test, y_train, y_test = train_test_split(X, y, test_size=0.2, random_state=42)"
   ]
  },
  {
   "cell_type": "markdown",
   "metadata": {},
   "source": [
    "### Naive Bayesian Classifier"
   ]
  },
  {
   "cell_type": "code",
   "execution_count": 72,
   "metadata": {},
   "outputs": [],
   "source": [
    "from sklearn.feature_extraction.text import TfidfVectorizer\n",
    "from sklearn.naive_bayes import MultinomialNB\n",
    "from sklearn.model_selection import cross_val_score"
   ]
  },
  {
   "cell_type": "code",
   "execution_count": 75,
   "metadata": {},
   "outputs": [],
   "source": [
    "tfidf = TfidfVectorizer(max_features=100, stop_words=stopwords.words('english'))\n",
    "X_train_vectorized = tfidf.fit_transform(X_train)\n",
    "X_test_vectorized = tfidf.transform(X_test)"
   ]
  },
  {
   "cell_type": "code",
   "execution_count": 76,
   "metadata": {},
   "outputs": [
    {
     "data": {
      "text/plain": [
       "array([0.64261168, 0.65704467, 0.64948454, 0.63823934, 0.63480055])"
      ]
     },
     "execution_count": 76,
     "metadata": {},
     "output_type": "execute_result"
    }
   ],
   "source": [
    "baseline_model = MultinomialNB()\n",
    "baseline_cv = cross_val_score(baseline_model, X_train_vectorized, y_train)\n",
    "baseline_cv"
   ]
  },
  {
   "cell_type": "markdown",
   "metadata": {},
   "source": [
    "The naive bayesian classifier has an accuracy of about 64% on both the training and test data, which is not amazing given how imbalanced the data is."
   ]
  },
  {
   "cell_type": "code",
   "execution_count": 77,
   "metadata": {},
   "outputs": [
    {
     "data": {
      "text/plain": [
       "0.6355140186915887"
      ]
     },
     "execution_count": 77,
     "metadata": {},
     "output_type": "execute_result"
    }
   ],
   "source": [
    "baseline_model.fit(X_train_vectorized, y_train)\n",
    "baseline_model.score(X_test_vectorized, y_test)"
   ]
  },
  {
   "cell_type": "markdown",
   "metadata": {},
   "source": [
    "### Basic RNN"
   ]
  },
  {
   "cell_type": "code",
   "execution_count": 44,
   "metadata": {},
   "outputs": [],
   "source": [
    "from keras.preprocessing.sequence import pad_sequences\n",
    "from keras.layers import Input, Dense, LSTM, Embedding\n",
    "from keras.layers import Dropout, Activation, Bidirectional, GlobalMaxPool1D\n",
    "from keras.models import Sequential\n",
    "from keras import initializers, regularizers, constraints, optimizers, layers\n",
    "from keras.preprocessing import text, sequence"
   ]
  },
  {
   "cell_type": "code",
   "execution_count": 45,
   "metadata": {},
   "outputs": [],
   "source": [
    "y = pd.get_dummies(clean['is_there_an_emotion_directed_at_a_brand_or_product']).values\n",
    "X_train, X_test, y_train, y_test = train_test_split(X, y, test_size=0.2, random_state=42)"
   ]
  },
  {
   "cell_type": "code",
   "execution_count": 57,
   "metadata": {},
   "outputs": [],
   "source": [
    "tokenizer = text.Tokenizer(num_words=20000)\n",
    "tokenizer.fit_on_texts(list(X_train))\n",
    "train_list_tokenized = tokenizer.texts_to_sequences(X_train)\n",
    "X_train_padded = sequence.pad_sequences(train_list_tokenized, maxlen=100)\n",
    "test_list_tokenized = tokenizer.texts_to_sequences(X_test)\n",
    "X_test_padded = sequence.pad_sequences(test_list_tokenized, maxlen=100)"
   ]
  },
  {
   "cell_type": "code",
   "execution_count": 47,
   "metadata": {},
   "outputs": [],
   "source": [
    "baseline_rnn = Sequential()\n",
    "embedding_size = 128\n",
    "baseline_rnn.add(Embedding(20000, embedding_size))\n",
    "baseline_rnn.add(LSTM(25, return_sequences=True))\n",
    "baseline_rnn.add(GlobalMaxPool1D())\n",
    "baseline_rnn.add(Dropout(0.5))\n",
    "baseline_rnn.add(Dense(50, activation='relu'))\n",
    "baseline_rnn.add(Dropout(0.5))\n",
    "baseline_rnn.add(Dense(3, activation='softmax'))"
   ]
  },
  {
   "cell_type": "code",
   "execution_count": 48,
   "metadata": {},
   "outputs": [],
   "source": [
    "baseline_rnn.compile(loss='categorical_crossentropy', \n",
    "              optimizer='adam', \n",
    "              metrics=['accuracy'])"
   ]
  },
  {
   "cell_type": "code",
   "execution_count": 49,
   "metadata": {},
   "outputs": [
    {
     "name": "stdout",
     "output_type": "stream",
     "text": [
      "Model: \"sequential\"\n",
      "_________________________________________________________________\n",
      " Layer (type)                Output Shape              Param #   \n",
      "=================================================================\n",
      " embedding (Embedding)       (None, None, 128)         2560000   \n",
      "                                                                 \n",
      " lstm (LSTM)                 (None, None, 25)          15400     \n",
      "                                                                 \n",
      " global_max_pooling1d (Globa  (None, 25)               0         \n",
      " lMaxPooling1D)                                                  \n",
      "                                                                 \n",
      " dropout (Dropout)           (None, 25)                0         \n",
      "                                                                 \n",
      " dense (Dense)               (None, 50)                1300      \n",
      "                                                                 \n",
      " dropout_1 (Dropout)         (None, 50)                0         \n",
      "                                                                 \n",
      " dense_1 (Dense)             (None, 3)                 153       \n",
      "                                                                 \n",
      "=================================================================\n",
      "Total params: 2,576,853\n",
      "Trainable params: 2,576,853\n",
      "Non-trainable params: 0\n",
      "_________________________________________________________________\n"
     ]
    }
   ],
   "source": [
    "baseline_rnn.summary()"
   ]
  },
  {
   "cell_type": "code",
   "execution_count": 50,
   "metadata": {},
   "outputs": [
    {
     "name": "stdout",
     "output_type": "stream",
     "text": [
      "Epoch 1/10\n",
      "205/205 [==============================] - 13s 53ms/step - loss: 0.8979 - accuracy: 0.5687 - val_loss: 0.8049 - val_accuracy: 0.6511\n",
      "Epoch 2/10\n",
      "205/205 [==============================] - 9s 45ms/step - loss: 0.8203 - accuracy: 0.6252 - val_loss: 0.7503 - val_accuracy: 0.6676\n",
      "Epoch 3/10\n",
      "205/205 [==============================] - 9s 45ms/step - loss: 0.6932 - accuracy: 0.7121 - val_loss: 0.7299 - val_accuracy: 0.6772\n",
      "Epoch 4/10\n",
      "205/205 [==============================] - 9s 44ms/step - loss: 0.5737 - accuracy: 0.7826 - val_loss: 0.7533 - val_accuracy: 0.6827\n",
      "Epoch 5/10\n",
      "205/205 [==============================] - 9s 46ms/step - loss: 0.4820 - accuracy: 0.8148 - val_loss: 0.7800 - val_accuracy: 0.7074\n",
      "Epoch 6/10\n",
      "205/205 [==============================] - 9s 45ms/step - loss: 0.3957 - accuracy: 0.8542 - val_loss: 0.8718 - val_accuracy: 0.6992\n",
      "Epoch 7/10\n",
      "205/205 [==============================] - 9s 46ms/step - loss: 0.3354 - accuracy: 0.8788 - val_loss: 0.9069 - val_accuracy: 0.6896\n",
      "Epoch 8/10\n",
      "205/205 [==============================] - 9s 46ms/step - loss: 0.3076 - accuracy: 0.8918 - val_loss: 0.9982 - val_accuracy: 0.6882\n",
      "Epoch 9/10\n",
      "205/205 [==============================] - 10s 48ms/step - loss: 0.2660 - accuracy: 0.9050 - val_loss: 1.1860 - val_accuracy: 0.6868\n",
      "Epoch 10/10\n",
      "205/205 [==============================] - 10s 49ms/step - loss: 0.2433 - accuracy: 0.9115 - val_loss: 1.2354 - val_accuracy: 0.6799\n"
     ]
    }
   ],
   "source": [
    "baseline_rnn_val = baseline_rnn.fit(X_train_padded, y_train, epochs=10, batch_size=32, validation_split=0.1)"
   ]
  },
  {
   "cell_type": "code",
   "execution_count": 51,
   "metadata": {},
   "outputs": [],
   "source": [
    "baseline_rnn_val_dict = baseline_rnn_val.history"
   ]
  },
  {
   "cell_type": "code",
   "execution_count": 53,
   "metadata": {},
   "outputs": [
    {
     "name": "stdout",
     "output_type": "stream",
     "text": [
      "228/228 [==============================] - 2s 8ms/step - loss: 0.2776 - accuracy: 0.9077\n",
      "----------\n",
      "Training Loss: 0.278 \n",
      "Training Accuracy: 0.908\n"
     ]
    }
   ],
   "source": [
    "results_train = baseline_rnn.evaluate(X_train_padded, y_train)\n",
    "print('----------')\n",
    "print(f'Training Loss: {results_train[0]:.3} \\nTraining Accuracy: {results_train[1]:.3}')"
   ]
  },
  {
   "cell_type": "code",
   "execution_count": 58,
   "metadata": {},
   "outputs": [
    {
     "name": "stdout",
     "output_type": "stream",
     "text": [
      "57/57 [==============================] - 0s 8ms/step - loss: 1.4118 - accuracy: 0.6630\n",
      "----------\n",
      "Test Loss: 1.41 \n",
      "Test Accuracy: 0.663\n"
     ]
    }
   ],
   "source": [
    "results_test = baseline_rnn.evaluate(X_test_padded, y_test)\n",
    "print('----------')\n",
    "print(f'Test Loss: {results_test[0]:.3} \\nTest Accuracy: {results_test[1]:.3}')"
   ]
  },
  {
   "cell_type": "markdown",
   "metadata": {},
   "source": [
    "We can see from graphing the data, that the model starts significantly overfitting after about 3 epochs"
   ]
  },
  {
   "cell_type": "code",
   "execution_count": 60,
   "metadata": {},
   "outputs": [
    {
     "data": {
      "image/png": "[encoded data removed]",
      "text/plain": [
       "<Figure size 864x576 with 1 Axes>"
      ]
     },
     "metadata": {
      "needs_background": "light"
     },
     "output_type": "display_data"
    }
   ],
   "source": [
    "fig, ax = plt.subplots(figsize=(12, 8))\n",
    "\n",
    "loss_values = baseline_rnn_val_dict['loss']\n",
    "val_loss_values = baseline_rnn_val_dict['val_loss']\n",
    "\n",
    "epochs = range(1, len(loss_values) + 1)\n",
    "ax.plot(epochs, loss_values, label='Training loss')\n",
    "ax.plot(epochs, val_loss_values, label='Validation loss')\n",
    "\n",
    "ax.set_title('Training & validation loss')\n",
    "ax.set_xlabel('Epochs')\n",
    "ax.set_ylabel('Loss')\n",
    "ax.legend();"
   ]
  },
  {
   "cell_type": "code",
   "execution_count": null,
   "metadata": {},
   "outputs": [],
   "source": []
  }
 ],
 "metadata": {
  "kernelspec": {
   "display_name": "Python 3",
   "language": "python",
   "name": "python3"
  },
  "language_info": {
   "codemirror_mode": {
    "name": "ipython",
    "version": 3
   },
   "file_extension": ".py",
   "mimetype": "text/x-python",
   "name": "python",
   "nbconvert_exporter": "python",
   "pygments_lexer": "ipython3",
   "version": "3.8.5"
  }
 },
 "nbformat": 4,
 "nbformat_minor": 2
}
